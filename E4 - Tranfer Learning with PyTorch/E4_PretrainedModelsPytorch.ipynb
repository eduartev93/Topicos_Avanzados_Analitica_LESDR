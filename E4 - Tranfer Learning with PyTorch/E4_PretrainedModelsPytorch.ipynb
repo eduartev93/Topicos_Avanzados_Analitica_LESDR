{
  "cells": [
    {
      "cell_type": "markdown",
      "metadata": {
        "id": "view-in-github"
      },
      "source": [
        "<a href=\"https://colab.research.google.com/github/sergiomora03/AdvancedTopicsAnalytics/blob/main/exercises/E4-PretrainedModelsPytorch.ipynb\" target=\"_parent\"><img src=\"https://colab.research.google.com/assets/colab-badge.svg\" alt=\"Open In Colab\"/></a>"
      ]
    },
    {
      "cell_type": "markdown",
      "metadata": {
        "id": "4XMpXRys76MZ"
      },
      "source": [
        "# Tranfer Learnning to Flower Recognition using PyTorch 🔥\n",
        "This dataset contains labeled 4242 images of flowers.\n",
        "\n",
        "\n",
        "### Content\n",
        "The pictures are divided into five classes: chamomile, tulip, rose, sunflower, dandelion.\n",
        "\n",
        "For each class there are about 800 photos. Photos are not high resolution, about 320x240 pixels. Photos are not reduced to a single size, they have different proportions!\n",
        "\n",
        "## Data\n",
        "You can download data from: [Flowers Recognition Dataset](https://www.kaggle.com/datasets/alxmamaev/flowers-recognition)"
      ]
    },
    {
      "cell_type": "code",
      "execution_count": 3,
      "metadata": {
        "colab": {
          "base_uri": "https://localhost:8080/"
        },
        "id": "ePBa7UeC742g",
        "outputId": "9dda09c0-fc0b-4c77-d806-c4cd609284b5"
      },
      "outputs": [
        {
          "output_type": "execute_result",
          "data": {
            "text/plain": [
              "['.config', 'flowers', 'archive.zip', 'sample_data']"
            ]
          },
          "metadata": {},
          "execution_count": 3
        }
      ],
      "source": [
        "import numpy as np\n",
        "import pandas as pd\n",
        "import os\n",
        "path=\"./\"\n",
        "os.listdir(path)"
      ]
    },
    {
      "cell_type": "code",
      "execution_count": 4,
      "metadata": {
        "colab": {
          "base_uri": "https://localhost:8080/"
        },
        "id": "5SpnEUuz-skn",
        "outputId": "bf736ae0-a563-4fe5-a2b3-a3133f10660f"
      },
      "outputs": [
        {
          "output_type": "stream",
          "name": "stdout",
          "text": [
            "Archive:  archive.zip\n",
            "replace flowers/daisy/100080576_f52e8ee070_n.jpg? [y]es, [n]o, [A]ll, [N]one, [r]ename: Y\n",
            "  inflating: flowers/daisy/100080576_f52e8ee070_n.jpg  \n",
            "replace flowers/daisy/10140303196_b88d3d6cec.jpg? [y]es, [n]o, [A]ll, [N]one, [r]ename: "
          ]
        }
      ],
      "source": [
        "!unzip archive.zip"
      ]
    },
    {
      "cell_type": "code",
      "execution_count": 5,
      "metadata": {
        "colab": {
          "base_uri": "https://localhost:8080/"
        },
        "id": "0tzzG2nx-2sk",
        "outputId": "92479493-7680-477a-a878-c179518b3d69"
      },
      "outputs": [
        {
          "output_type": "execute_result",
          "data": {
            "text/plain": [
              "['rose', 'tulip', 'sunflower', 'dandelion', 'daisy']"
            ]
          },
          "metadata": {},
          "execution_count": 5
        }
      ],
      "source": [
        "path=\"./flowers\"\n",
        "os.listdir(path)"
      ]
    },
    {
      "cell_type": "code",
      "execution_count": 6,
      "metadata": {
        "id": "UQdfL32z_BWO"
      },
      "outputs": [],
      "source": [
        "classes=['dandelion', 'daisy', 'sunflower', 'tulip', 'rose']"
      ]
    },
    {
      "cell_type": "code",
      "source": [
        "print(len(classes))"
      ],
      "metadata": {
        "colab": {
          "base_uri": "https://localhost:8080/"
        },
        "id": "XcG8XDkOoAvH",
        "outputId": "294091ed-62ad-467d-9fcd-759ef519a173"
      },
      "execution_count": 7,
      "outputs": [
        {
          "output_type": "stream",
          "name": "stdout",
          "text": [
            "5\n"
          ]
        }
      ]
    },
    {
      "cell_type": "code",
      "execution_count": 8,
      "metadata": {
        "colab": {
          "base_uri": "https://localhost:8080/",
          "height": 112
        },
        "id": "Idt0FAef_FSL",
        "outputId": "171cfe0d-dd85-403d-b9b5-9703709b2ea6"
      },
      "outputs": [
        {
          "output_type": "execute_result",
          "data": {
            "text/plain": [
              "                                             img      label\n",
              "0    ./flowers/tulip/8572847041_d0cc07861f_n.jpg      tulip\n",
              "1  ./flowers/dandelion/2443192475_c64c66d9c2.jpg  dandelion"
            ],
            "text/html": [
              "\n",
              "  <div id=\"df-d5aff8f6-1cff-4ec0-abb4-ab6306396474\" class=\"colab-df-container\">\n",
              "    <div>\n",
              "<style scoped>\n",
              "    .dataframe tbody tr th:only-of-type {\n",
              "        vertical-align: middle;\n",
              "    }\n",
              "\n",
              "    .dataframe tbody tr th {\n",
              "        vertical-align: top;\n",
              "    }\n",
              "\n",
              "    .dataframe thead th {\n",
              "        text-align: right;\n",
              "    }\n",
              "</style>\n",
              "<table border=\"1\" class=\"dataframe\">\n",
              "  <thead>\n",
              "    <tr style=\"text-align: right;\">\n",
              "      <th></th>\n",
              "      <th>img</th>\n",
              "      <th>label</th>\n",
              "    </tr>\n",
              "  </thead>\n",
              "  <tbody>\n",
              "    <tr>\n",
              "      <th>0</th>\n",
              "      <td>./flowers/tulip/8572847041_d0cc07861f_n.jpg</td>\n",
              "      <td>tulip</td>\n",
              "    </tr>\n",
              "    <tr>\n",
              "      <th>1</th>\n",
              "      <td>./flowers/dandelion/2443192475_c64c66d9c2.jpg</td>\n",
              "      <td>dandelion</td>\n",
              "    </tr>\n",
              "  </tbody>\n",
              "</table>\n",
              "</div>\n",
              "    <div class=\"colab-df-buttons\">\n",
              "\n",
              "  <div class=\"colab-df-container\">\n",
              "    <button class=\"colab-df-convert\" onclick=\"convertToInteractive('df-d5aff8f6-1cff-4ec0-abb4-ab6306396474')\"\n",
              "            title=\"Convert this dataframe to an interactive table.\"\n",
              "            style=\"display:none;\">\n",
              "\n",
              "  <svg xmlns=\"http://www.w3.org/2000/svg\" height=\"24px\" viewBox=\"0 -960 960 960\">\n",
              "    <path d=\"M120-120v-720h720v720H120Zm60-500h600v-160H180v160Zm220 220h160v-160H400v160Zm0 220h160v-160H400v160ZM180-400h160v-160H180v160Zm440 0h160v-160H620v160ZM180-180h160v-160H180v160Zm440 0h160v-160H620v160Z\"/>\n",
              "  </svg>\n",
              "    </button>\n",
              "\n",
              "  <style>\n",
              "    .colab-df-container {\n",
              "      display:flex;\n",
              "      gap: 12px;\n",
              "    }\n",
              "\n",
              "    .colab-df-convert {\n",
              "      background-color: #E8F0FE;\n",
              "      border: none;\n",
              "      border-radius: 50%;\n",
              "      cursor: pointer;\n",
              "      display: none;\n",
              "      fill: #1967D2;\n",
              "      height: 32px;\n",
              "      padding: 0 0 0 0;\n",
              "      width: 32px;\n",
              "    }\n",
              "\n",
              "    .colab-df-convert:hover {\n",
              "      background-color: #E2EBFA;\n",
              "      box-shadow: 0px 1px 2px rgba(60, 64, 67, 0.3), 0px 1px 3px 1px rgba(60, 64, 67, 0.15);\n",
              "      fill: #174EA6;\n",
              "    }\n",
              "\n",
              "    .colab-df-buttons div {\n",
              "      margin-bottom: 4px;\n",
              "    }\n",
              "\n",
              "    [theme=dark] .colab-df-convert {\n",
              "      background-color: #3B4455;\n",
              "      fill: #D2E3FC;\n",
              "    }\n",
              "\n",
              "    [theme=dark] .colab-df-convert:hover {\n",
              "      background-color: #434B5C;\n",
              "      box-shadow: 0px 1px 3px 1px rgba(0, 0, 0, 0.15);\n",
              "      filter: drop-shadow(0px 1px 2px rgba(0, 0, 0, 0.3));\n",
              "      fill: #FFFFFF;\n",
              "    }\n",
              "  </style>\n",
              "\n",
              "    <script>\n",
              "      const buttonEl =\n",
              "        document.querySelector('#df-d5aff8f6-1cff-4ec0-abb4-ab6306396474 button.colab-df-convert');\n",
              "      buttonEl.style.display =\n",
              "        google.colab.kernel.accessAllowed ? 'block' : 'none';\n",
              "\n",
              "      async function convertToInteractive(key) {\n",
              "        const element = document.querySelector('#df-d5aff8f6-1cff-4ec0-abb4-ab6306396474');\n",
              "        const dataTable =\n",
              "          await google.colab.kernel.invokeFunction('convertToInteractive',\n",
              "                                                    [key], {});\n",
              "        if (!dataTable) return;\n",
              "\n",
              "        const docLinkHtml = 'Like what you see? Visit the ' +\n",
              "          '<a target=\"_blank\" href=https://colab.research.google.com/notebooks/data_table.ipynb>data table notebook</a>'\n",
              "          + ' to learn more about interactive tables.';\n",
              "        element.innerHTML = '';\n",
              "        dataTable['output_type'] = 'display_data';\n",
              "        await google.colab.output.renderOutput(dataTable, element);\n",
              "        const docLink = document.createElement('div');\n",
              "        docLink.innerHTML = docLinkHtml;\n",
              "        element.appendChild(docLink);\n",
              "      }\n",
              "    </script>\n",
              "  </div>\n",
              "\n",
              "\n",
              "<div id=\"df-4fa8e2a0-e4dc-429b-925a-06b5083de0a7\">\n",
              "  <button class=\"colab-df-quickchart\" onclick=\"quickchart('df-4fa8e2a0-e4dc-429b-925a-06b5083de0a7')\"\n",
              "            title=\"Suggest charts\"\n",
              "            style=\"display:none;\">\n",
              "\n",
              "<svg xmlns=\"http://www.w3.org/2000/svg\" height=\"24px\"viewBox=\"0 0 24 24\"\n",
              "     width=\"24px\">\n",
              "    <g>\n",
              "        <path d=\"M19 3H5c-1.1 0-2 .9-2 2v14c0 1.1.9 2 2 2h14c1.1 0 2-.9 2-2V5c0-1.1-.9-2-2-2zM9 17H7v-7h2v7zm4 0h-2V7h2v10zm4 0h-2v-4h2v4z\"/>\n",
              "    </g>\n",
              "</svg>\n",
              "  </button>\n",
              "\n",
              "<style>\n",
              "  .colab-df-quickchart {\n",
              "      --bg-color: #E8F0FE;\n",
              "      --fill-color: #1967D2;\n",
              "      --hover-bg-color: #E2EBFA;\n",
              "      --hover-fill-color: #174EA6;\n",
              "      --disabled-fill-color: #AAA;\n",
              "      --disabled-bg-color: #DDD;\n",
              "  }\n",
              "\n",
              "  [theme=dark] .colab-df-quickchart {\n",
              "      --bg-color: #3B4455;\n",
              "      --fill-color: #D2E3FC;\n",
              "      --hover-bg-color: #434B5C;\n",
              "      --hover-fill-color: #FFFFFF;\n",
              "      --disabled-bg-color: #3B4455;\n",
              "      --disabled-fill-color: #666;\n",
              "  }\n",
              "\n",
              "  .colab-df-quickchart {\n",
              "    background-color: var(--bg-color);\n",
              "    border: none;\n",
              "    border-radius: 50%;\n",
              "    cursor: pointer;\n",
              "    display: none;\n",
              "    fill: var(--fill-color);\n",
              "    height: 32px;\n",
              "    padding: 0;\n",
              "    width: 32px;\n",
              "  }\n",
              "\n",
              "  .colab-df-quickchart:hover {\n",
              "    background-color: var(--hover-bg-color);\n",
              "    box-shadow: 0 1px 2px rgba(60, 64, 67, 0.3), 0 1px 3px 1px rgba(60, 64, 67, 0.15);\n",
              "    fill: var(--button-hover-fill-color);\n",
              "  }\n",
              "\n",
              "  .colab-df-quickchart-complete:disabled,\n",
              "  .colab-df-quickchart-complete:disabled:hover {\n",
              "    background-color: var(--disabled-bg-color);\n",
              "    fill: var(--disabled-fill-color);\n",
              "    box-shadow: none;\n",
              "  }\n",
              "\n",
              "  .colab-df-spinner {\n",
              "    border: 2px solid var(--fill-color);\n",
              "    border-color: transparent;\n",
              "    border-bottom-color: var(--fill-color);\n",
              "    animation:\n",
              "      spin 1s steps(1) infinite;\n",
              "  }\n",
              "\n",
              "  @keyframes spin {\n",
              "    0% {\n",
              "      border-color: transparent;\n",
              "      border-bottom-color: var(--fill-color);\n",
              "      border-left-color: var(--fill-color);\n",
              "    }\n",
              "    20% {\n",
              "      border-color: transparent;\n",
              "      border-left-color: var(--fill-color);\n",
              "      border-top-color: var(--fill-color);\n",
              "    }\n",
              "    30% {\n",
              "      border-color: transparent;\n",
              "      border-left-color: var(--fill-color);\n",
              "      border-top-color: var(--fill-color);\n",
              "      border-right-color: var(--fill-color);\n",
              "    }\n",
              "    40% {\n",
              "      border-color: transparent;\n",
              "      border-right-color: var(--fill-color);\n",
              "      border-top-color: var(--fill-color);\n",
              "    }\n",
              "    60% {\n",
              "      border-color: transparent;\n",
              "      border-right-color: var(--fill-color);\n",
              "    }\n",
              "    80% {\n",
              "      border-color: transparent;\n",
              "      border-right-color: var(--fill-color);\n",
              "      border-bottom-color: var(--fill-color);\n",
              "    }\n",
              "    90% {\n",
              "      border-color: transparent;\n",
              "      border-bottom-color: var(--fill-color);\n",
              "    }\n",
              "  }\n",
              "</style>\n",
              "\n",
              "  <script>\n",
              "    async function quickchart(key) {\n",
              "      const quickchartButtonEl =\n",
              "        document.querySelector('#' + key + ' button');\n",
              "      quickchartButtonEl.disabled = true;  // To prevent multiple clicks.\n",
              "      quickchartButtonEl.classList.add('colab-df-spinner');\n",
              "      try {\n",
              "        const charts = await google.colab.kernel.invokeFunction(\n",
              "            'suggestCharts', [key], {});\n",
              "      } catch (error) {\n",
              "        console.error('Error during call to suggestCharts:', error);\n",
              "      }\n",
              "      quickchartButtonEl.classList.remove('colab-df-spinner');\n",
              "      quickchartButtonEl.classList.add('colab-df-quickchart-complete');\n",
              "    }\n",
              "    (() => {\n",
              "      let quickchartButtonEl =\n",
              "        document.querySelector('#df-4fa8e2a0-e4dc-429b-925a-06b5083de0a7 button');\n",
              "      quickchartButtonEl.style.display =\n",
              "        google.colab.kernel.accessAllowed ? 'block' : 'none';\n",
              "    })();\n",
              "  </script>\n",
              "</div>\n",
              "\n",
              "    </div>\n",
              "  </div>\n"
            ],
            "application/vnd.google.colaboratory.intrinsic+json": {
              "type": "dataframe",
              "variable_name": "df",
              "summary": "{\n  \"name\": \"df\",\n  \"rows\": 4317,\n  \"fields\": [\n    {\n      \"column\": \"img\",\n      \"properties\": {\n        \"dtype\": \"string\",\n        \"num_unique_values\": 4317,\n        \"samples\": [\n          \"./flowers/tulip/176458518_f81d4bff8e.jpg\",\n          \"./flowers/rose/5001855689_e07486c44d_n.jpg\",\n          \"./flowers/rose/7345657862_689366e79a.jpg\"\n        ],\n        \"semantic_type\": \"\",\n        \"description\": \"\"\n      }\n    },\n    {\n      \"column\": \"label\",\n      \"properties\": {\n        \"dtype\": \"category\",\n        \"num_unique_values\": 5,\n        \"samples\": [\n          \"dandelion\",\n          \"sunflower\",\n          \"daisy\"\n        ],\n        \"semantic_type\": \"\",\n        \"description\": \"\"\n      }\n    }\n  ]\n}"
            }
          },
          "metadata": {},
          "execution_count": 8
        }
      ],
      "source": [
        "label_of_file=[]\n",
        "img_list=[]\n",
        "\n",
        "for kind in classes:\n",
        "    kind_parh=os.path.join(path,kind)\n",
        "\n",
        "    for img in os.listdir(kind_parh):\n",
        "        img_list.append(os.path.join(kind_parh,img))\n",
        "        label_of_file.append(kind)\n",
        "\n",
        "df=pd.DataFrame({'img':img_list,'label':label_of_file})\n",
        "df.head(3)\n",
        "df = df.sample(frac=1).reset_index(drop=True)\n",
        "df.head(2)"
      ]
    },
    {
      "cell_type": "code",
      "execution_count": 9,
      "metadata": {
        "id": "yA7bAX2P_H1V"
      },
      "outputs": [],
      "source": [
        "from sklearn.preprocessing import LabelEncoder\n",
        "encoder = LabelEncoder()\n",
        "\n",
        "df['encode_label'] = encoder.fit_transform(df['label'])\n",
        "df['encode_label'] = df['encode_label'].astype('int64') #convertir a long dado que el entreamiento falla si esto no se realiza #20240901"
      ]
    },
    {
      "cell_type": "code",
      "execution_count": 10,
      "metadata": {
        "colab": {
          "base_uri": "https://localhost:8080/",
          "height": 363
        },
        "id": "s6bm8oMo_Qd0",
        "outputId": "088839d9-a88c-46c5-fb5f-44130429e62a"
      },
      "outputs": [
        {
          "output_type": "execute_result",
          "data": {
            "text/plain": [
              "                                                img      label  encode_label\n",
              "0       ./flowers/tulip/8572847041_d0cc07861f_n.jpg      tulip             4\n",
              "1     ./flowers/dandelion/2443192475_c64c66d9c2.jpg  dandelion             1\n",
              "2      ./flowers/tulip/14069841138_e2b403f44f_n.jpg      tulip             4\n",
              "3        ./flowers/daisy/18354545086_693ea7bc2a.jpg      daisy             0\n",
              "4      ./flowers/daisy/33838292353_8b143f7980_n.jpg      daisy             0\n",
              "5   ./flowers/dandelion/2387025546_6aecb1b984_n.jpg  dandelion             1\n",
              "6       ./flowers/tulip/5433747333_869a2a172d_m.jpg      tulip             4\n",
              "7        ./flowers/daisy/14921511479_7b0a647795.jpg      daisy             0\n",
              "8  ./flowers/dandelion/14404468648_37903d7025_m.jpg  dandelion             1\n",
              "9       ./flowers/rose/15094168139_8f636ffa1d_n.jpg       rose             2"
            ],
            "text/html": [
              "\n",
              "  <div id=\"df-2746168d-78d1-4936-b7c6-fd402d608482\" class=\"colab-df-container\">\n",
              "    <div>\n",
              "<style scoped>\n",
              "    .dataframe tbody tr th:only-of-type {\n",
              "        vertical-align: middle;\n",
              "    }\n",
              "\n",
              "    .dataframe tbody tr th {\n",
              "        vertical-align: top;\n",
              "    }\n",
              "\n",
              "    .dataframe thead th {\n",
              "        text-align: right;\n",
              "    }\n",
              "</style>\n",
              "<table border=\"1\" class=\"dataframe\">\n",
              "  <thead>\n",
              "    <tr style=\"text-align: right;\">\n",
              "      <th></th>\n",
              "      <th>img</th>\n",
              "      <th>label</th>\n",
              "      <th>encode_label</th>\n",
              "    </tr>\n",
              "  </thead>\n",
              "  <tbody>\n",
              "    <tr>\n",
              "      <th>0</th>\n",
              "      <td>./flowers/tulip/8572847041_d0cc07861f_n.jpg</td>\n",
              "      <td>tulip</td>\n",
              "      <td>4</td>\n",
              "    </tr>\n",
              "    <tr>\n",
              "      <th>1</th>\n",
              "      <td>./flowers/dandelion/2443192475_c64c66d9c2.jpg</td>\n",
              "      <td>dandelion</td>\n",
              "      <td>1</td>\n",
              "    </tr>\n",
              "    <tr>\n",
              "      <th>2</th>\n",
              "      <td>./flowers/tulip/14069841138_e2b403f44f_n.jpg</td>\n",
              "      <td>tulip</td>\n",
              "      <td>4</td>\n",
              "    </tr>\n",
              "    <tr>\n",
              "      <th>3</th>\n",
              "      <td>./flowers/daisy/18354545086_693ea7bc2a.jpg</td>\n",
              "      <td>daisy</td>\n",
              "      <td>0</td>\n",
              "    </tr>\n",
              "    <tr>\n",
              "      <th>4</th>\n",
              "      <td>./flowers/daisy/33838292353_8b143f7980_n.jpg</td>\n",
              "      <td>daisy</td>\n",
              "      <td>0</td>\n",
              "    </tr>\n",
              "    <tr>\n",
              "      <th>5</th>\n",
              "      <td>./flowers/dandelion/2387025546_6aecb1b984_n.jpg</td>\n",
              "      <td>dandelion</td>\n",
              "      <td>1</td>\n",
              "    </tr>\n",
              "    <tr>\n",
              "      <th>6</th>\n",
              "      <td>./flowers/tulip/5433747333_869a2a172d_m.jpg</td>\n",
              "      <td>tulip</td>\n",
              "      <td>4</td>\n",
              "    </tr>\n",
              "    <tr>\n",
              "      <th>7</th>\n",
              "      <td>./flowers/daisy/14921511479_7b0a647795.jpg</td>\n",
              "      <td>daisy</td>\n",
              "      <td>0</td>\n",
              "    </tr>\n",
              "    <tr>\n",
              "      <th>8</th>\n",
              "      <td>./flowers/dandelion/14404468648_37903d7025_m.jpg</td>\n",
              "      <td>dandelion</td>\n",
              "      <td>1</td>\n",
              "    </tr>\n",
              "    <tr>\n",
              "      <th>9</th>\n",
              "      <td>./flowers/rose/15094168139_8f636ffa1d_n.jpg</td>\n",
              "      <td>rose</td>\n",
              "      <td>2</td>\n",
              "    </tr>\n",
              "  </tbody>\n",
              "</table>\n",
              "</div>\n",
              "    <div class=\"colab-df-buttons\">\n",
              "\n",
              "  <div class=\"colab-df-container\">\n",
              "    <button class=\"colab-df-convert\" onclick=\"convertToInteractive('df-2746168d-78d1-4936-b7c6-fd402d608482')\"\n",
              "            title=\"Convert this dataframe to an interactive table.\"\n",
              "            style=\"display:none;\">\n",
              "\n",
              "  <svg xmlns=\"http://www.w3.org/2000/svg\" height=\"24px\" viewBox=\"0 -960 960 960\">\n",
              "    <path d=\"M120-120v-720h720v720H120Zm60-500h600v-160H180v160Zm220 220h160v-160H400v160Zm0 220h160v-160H400v160ZM180-400h160v-160H180v160Zm440 0h160v-160H620v160ZM180-180h160v-160H180v160Zm440 0h160v-160H620v160Z\"/>\n",
              "  </svg>\n",
              "    </button>\n",
              "\n",
              "  <style>\n",
              "    .colab-df-container {\n",
              "      display:flex;\n",
              "      gap: 12px;\n",
              "    }\n",
              "\n",
              "    .colab-df-convert {\n",
              "      background-color: #E8F0FE;\n",
              "      border: none;\n",
              "      border-radius: 50%;\n",
              "      cursor: pointer;\n",
              "      display: none;\n",
              "      fill: #1967D2;\n",
              "      height: 32px;\n",
              "      padding: 0 0 0 0;\n",
              "      width: 32px;\n",
              "    }\n",
              "\n",
              "    .colab-df-convert:hover {\n",
              "      background-color: #E2EBFA;\n",
              "      box-shadow: 0px 1px 2px rgba(60, 64, 67, 0.3), 0px 1px 3px 1px rgba(60, 64, 67, 0.15);\n",
              "      fill: #174EA6;\n",
              "    }\n",
              "\n",
              "    .colab-df-buttons div {\n",
              "      margin-bottom: 4px;\n",
              "    }\n",
              "\n",
              "    [theme=dark] .colab-df-convert {\n",
              "      background-color: #3B4455;\n",
              "      fill: #D2E3FC;\n",
              "    }\n",
              "\n",
              "    [theme=dark] .colab-df-convert:hover {\n",
              "      background-color: #434B5C;\n",
              "      box-shadow: 0px 1px 3px 1px rgba(0, 0, 0, 0.15);\n",
              "      filter: drop-shadow(0px 1px 2px rgba(0, 0, 0, 0.3));\n",
              "      fill: #FFFFFF;\n",
              "    }\n",
              "  </style>\n",
              "\n",
              "    <script>\n",
              "      const buttonEl =\n",
              "        document.querySelector('#df-2746168d-78d1-4936-b7c6-fd402d608482 button.colab-df-convert');\n",
              "      buttonEl.style.display =\n",
              "        google.colab.kernel.accessAllowed ? 'block' : 'none';\n",
              "\n",
              "      async function convertToInteractive(key) {\n",
              "        const element = document.querySelector('#df-2746168d-78d1-4936-b7c6-fd402d608482');\n",
              "        const dataTable =\n",
              "          await google.colab.kernel.invokeFunction('convertToInteractive',\n",
              "                                                    [key], {});\n",
              "        if (!dataTable) return;\n",
              "\n",
              "        const docLinkHtml = 'Like what you see? Visit the ' +\n",
              "          '<a target=\"_blank\" href=https://colab.research.google.com/notebooks/data_table.ipynb>data table notebook</a>'\n",
              "          + ' to learn more about interactive tables.';\n",
              "        element.innerHTML = '';\n",
              "        dataTable['output_type'] = 'display_data';\n",
              "        await google.colab.output.renderOutput(dataTable, element);\n",
              "        const docLink = document.createElement('div');\n",
              "        docLink.innerHTML = docLinkHtml;\n",
              "        element.appendChild(docLink);\n",
              "      }\n",
              "    </script>\n",
              "  </div>\n",
              "\n",
              "\n",
              "<div id=\"df-01dc501f-99d6-4845-8675-e3e0b3e1aa08\">\n",
              "  <button class=\"colab-df-quickchart\" onclick=\"quickchart('df-01dc501f-99d6-4845-8675-e3e0b3e1aa08')\"\n",
              "            title=\"Suggest charts\"\n",
              "            style=\"display:none;\">\n",
              "\n",
              "<svg xmlns=\"http://www.w3.org/2000/svg\" height=\"24px\"viewBox=\"0 0 24 24\"\n",
              "     width=\"24px\">\n",
              "    <g>\n",
              "        <path d=\"M19 3H5c-1.1 0-2 .9-2 2v14c0 1.1.9 2 2 2h14c1.1 0 2-.9 2-2V5c0-1.1-.9-2-2-2zM9 17H7v-7h2v7zm4 0h-2V7h2v10zm4 0h-2v-4h2v4z\"/>\n",
              "    </g>\n",
              "</svg>\n",
              "  </button>\n",
              "\n",
              "<style>\n",
              "  .colab-df-quickchart {\n",
              "      --bg-color: #E8F0FE;\n",
              "      --fill-color: #1967D2;\n",
              "      --hover-bg-color: #E2EBFA;\n",
              "      --hover-fill-color: #174EA6;\n",
              "      --disabled-fill-color: #AAA;\n",
              "      --disabled-bg-color: #DDD;\n",
              "  }\n",
              "\n",
              "  [theme=dark] .colab-df-quickchart {\n",
              "      --bg-color: #3B4455;\n",
              "      --fill-color: #D2E3FC;\n",
              "      --hover-bg-color: #434B5C;\n",
              "      --hover-fill-color: #FFFFFF;\n",
              "      --disabled-bg-color: #3B4455;\n",
              "      --disabled-fill-color: #666;\n",
              "  }\n",
              "\n",
              "  .colab-df-quickchart {\n",
              "    background-color: var(--bg-color);\n",
              "    border: none;\n",
              "    border-radius: 50%;\n",
              "    cursor: pointer;\n",
              "    display: none;\n",
              "    fill: var(--fill-color);\n",
              "    height: 32px;\n",
              "    padding: 0;\n",
              "    width: 32px;\n",
              "  }\n",
              "\n",
              "  .colab-df-quickchart:hover {\n",
              "    background-color: var(--hover-bg-color);\n",
              "    box-shadow: 0 1px 2px rgba(60, 64, 67, 0.3), 0 1px 3px 1px rgba(60, 64, 67, 0.15);\n",
              "    fill: var(--button-hover-fill-color);\n",
              "  }\n",
              "\n",
              "  .colab-df-quickchart-complete:disabled,\n",
              "  .colab-df-quickchart-complete:disabled:hover {\n",
              "    background-color: var(--disabled-bg-color);\n",
              "    fill: var(--disabled-fill-color);\n",
              "    box-shadow: none;\n",
              "  }\n",
              "\n",
              "  .colab-df-spinner {\n",
              "    border: 2px solid var(--fill-color);\n",
              "    border-color: transparent;\n",
              "    border-bottom-color: var(--fill-color);\n",
              "    animation:\n",
              "      spin 1s steps(1) infinite;\n",
              "  }\n",
              "\n",
              "  @keyframes spin {\n",
              "    0% {\n",
              "      border-color: transparent;\n",
              "      border-bottom-color: var(--fill-color);\n",
              "      border-left-color: var(--fill-color);\n",
              "    }\n",
              "    20% {\n",
              "      border-color: transparent;\n",
              "      border-left-color: var(--fill-color);\n",
              "      border-top-color: var(--fill-color);\n",
              "    }\n",
              "    30% {\n",
              "      border-color: transparent;\n",
              "      border-left-color: var(--fill-color);\n",
              "      border-top-color: var(--fill-color);\n",
              "      border-right-color: var(--fill-color);\n",
              "    }\n",
              "    40% {\n",
              "      border-color: transparent;\n",
              "      border-right-color: var(--fill-color);\n",
              "      border-top-color: var(--fill-color);\n",
              "    }\n",
              "    60% {\n",
              "      border-color: transparent;\n",
              "      border-right-color: var(--fill-color);\n",
              "    }\n",
              "    80% {\n",
              "      border-color: transparent;\n",
              "      border-right-color: var(--fill-color);\n",
              "      border-bottom-color: var(--fill-color);\n",
              "    }\n",
              "    90% {\n",
              "      border-color: transparent;\n",
              "      border-bottom-color: var(--fill-color);\n",
              "    }\n",
              "  }\n",
              "</style>\n",
              "\n",
              "  <script>\n",
              "    async function quickchart(key) {\n",
              "      const quickchartButtonEl =\n",
              "        document.querySelector('#' + key + ' button');\n",
              "      quickchartButtonEl.disabled = true;  // To prevent multiple clicks.\n",
              "      quickchartButtonEl.classList.add('colab-df-spinner');\n",
              "      try {\n",
              "        const charts = await google.colab.kernel.invokeFunction(\n",
              "            'suggestCharts', [key], {});\n",
              "      } catch (error) {\n",
              "        console.error('Error during call to suggestCharts:', error);\n",
              "      }\n",
              "      quickchartButtonEl.classList.remove('colab-df-spinner');\n",
              "      quickchartButtonEl.classList.add('colab-df-quickchart-complete');\n",
              "    }\n",
              "    (() => {\n",
              "      let quickchartButtonEl =\n",
              "        document.querySelector('#df-01dc501f-99d6-4845-8675-e3e0b3e1aa08 button');\n",
              "      quickchartButtonEl.style.display =\n",
              "        google.colab.kernel.accessAllowed ? 'block' : 'none';\n",
              "    })();\n",
              "  </script>\n",
              "</div>\n",
              "\n",
              "    </div>\n",
              "  </div>\n"
            ],
            "application/vnd.google.colaboratory.intrinsic+json": {
              "type": "dataframe",
              "variable_name": "df",
              "summary": "{\n  \"name\": \"df\",\n  \"rows\": 4317,\n  \"fields\": [\n    {\n      \"column\": \"img\",\n      \"properties\": {\n        \"dtype\": \"string\",\n        \"num_unique_values\": 4317,\n        \"samples\": [\n          \"./flowers/tulip/176458518_f81d4bff8e.jpg\",\n          \"./flowers/rose/5001855689_e07486c44d_n.jpg\",\n          \"./flowers/rose/7345657862_689366e79a.jpg\"\n        ],\n        \"semantic_type\": \"\",\n        \"description\": \"\"\n      }\n    },\n    {\n      \"column\": \"label\",\n      \"properties\": {\n        \"dtype\": \"category\",\n        \"num_unique_values\": 5,\n        \"samples\": [\n          \"dandelion\",\n          \"sunflower\",\n          \"daisy\"\n        ],\n        \"semantic_type\": \"\",\n        \"description\": \"\"\n      }\n    },\n    {\n      \"column\": \"encode_label\",\n      \"properties\": {\n        \"dtype\": \"number\",\n        \"std\": 1,\n        \"min\": 0,\n        \"max\": 4,\n        \"num_unique_values\": 5,\n        \"samples\": [\n          1,\n          3,\n          0\n        ],\n        \"semantic_type\": \"\",\n        \"description\": \"\"\n      }\n    }\n  ]\n}"
            }
          },
          "metadata": {},
          "execution_count": 10
        }
      ],
      "source": [
        "df.head(10)"
      ]
    },
    {
      "cell_type": "code",
      "execution_count": 11,
      "metadata": {
        "id": "okJJG8No_SgX"
      },
      "outputs": [],
      "source": [
        "import cv2\n",
        "import torch\n",
        "from torch.utils.data import Dataset, DataLoader\n",
        "from torchvision import transforms, models\n",
        "import torch.nn as nn"
      ]
    },
    {
      "cell_type": "code",
      "execution_count": 12,
      "metadata": {
        "colab": {
          "base_uri": "https://localhost:8080/"
        },
        "id": "ha9681z3_Zw9",
        "outputId": "0f95fab4-d41b-40f8-9d52-693d5b77499f"
      },
      "outputs": [
        {
          "output_type": "execute_result",
          "data": {
            "text/plain": [
              "(159, 240, 3)"
            ]
          },
          "metadata": {},
          "execution_count": 12
        }
      ],
      "source": [
        "example_img = cv2.imread(df['img'][2])\n",
        "example_img.shape"
      ]
    },
    {
      "cell_type": "code",
      "execution_count": 13,
      "metadata": {
        "colab": {
          "base_uri": "https://localhost:8080/",
          "height": 578
        },
        "id": "kNKSyejg_fpT",
        "outputId": "2cbd2256-13c5-43b9-f9eb-2f581e05fa47"
      },
      "outputs": [
        {
          "output_type": "display_data",
          "data": {
            "text/plain": [
              "<Figure size 1000x1000 with 1 Axes>"
            ],
            "image/png": "[encoded data removed]"
          },
          "metadata": {}
        }
      ],
      "source": [
        "import matplotlib.pyplot as plt\n",
        "plt.figure(figsize=(10,10))\n",
        "plt.imshow(example_img)\n",
        "plt.show()"
      ]
    },
    {
      "cell_type": "code",
      "execution_count": 14,
      "metadata": {
        "id": "VVKrJowd_lUY"
      },
      "outputs": [],
      "source": [
        "# este codigo debe ser modificado -- 20240831\n",
        "\n",
        "#import numpy as np\n",
        "#x=[]\n",
        "#for img in df['img']:\n",
        "#    try:\n",
        "#        img = cv2.imread(img)\n",
        "#        img = cv2.resize(img, (150, 150))\n",
        "#        img = img / 255.0  # normalize\n",
        "#        x.append(img)      # img\n",
        "\n",
        "#    except:\n",
        "#        print(f\"Error loading image: {img}\")\n",
        "\n",
        "# resnet 50 solo soporta imagenes de 224x224 y con la normalizacion esperada\n",
        "import numpy as np\n",
        "x = []\n",
        "for img in df['img']:\n",
        "    try:\n",
        "        img = cv2.imread(img)\n",
        "        img = cv2.resize(img, (224, 224))  # Cambiar tamaño a 224x224\n",
        "\n",
        "        # Convertir de BGR a RGB\n",
        "        img = cv2.cvtColor(img, cv2.COLOR_BGR2RGB)\n",
        "\n",
        "        # Normalizar\n",
        "        img = img / 255.0\n",
        "\n",
        "        # Aplicar la normalización esperada por ResNet-50\n",
        "        #img = (img - [0.485, 0.456, 0.406]) / [0.229, 0.224, 0.225]\n",
        "\n",
        "        # Convertir a tensor y cambiar el orden a (C, H, W)\n",
        "        #img = np.transpose(img, (2, 0, 1))\n",
        "        #img = torch.tensor(img, dtype=torch.float32)\n",
        "\n",
        "        x.append(img)\n",
        "\n",
        "    except Exception as e:\n",
        "        print(f\"Error loading image: {img}, Error: {e}\")\n"
      ]
    },
    {
      "cell_type": "code",
      "source": [
        "device = (\n",
        "    \"cuda\"\n",
        "    if torch.cuda.is_available()\n",
        "    else \"mps\"\n",
        "    if torch.backends.mps.is_available()\n",
        "    else \"cpu\"\n",
        ")\n",
        "\n",
        "print(device)"
      ],
      "metadata": {
        "colab": {
          "base_uri": "https://localhost:8080/"
        },
        "id": "-2NIeBR5NT2q",
        "outputId": "45848509-b8a5-433a-b5af-c14b5461eda6"
      },
      "execution_count": 15,
      "outputs": [
        {
          "output_type": "stream",
          "name": "stdout",
          "text": [
            "cuda\n"
          ]
        }
      ]
    },
    {
      "cell_type": "markdown",
      "metadata": {
        "id": "064dSpPX_-qN"
      },
      "source": [
        "## Modeling"
      ]
    },
    {
      "cell_type": "code",
      "source": [
        "# Elimina todos los objetos en CUDA\n",
        "torch.cuda.empty_cache()"
      ],
      "metadata": {
        "id": "WsRGMrXTPnd4"
      },
      "execution_count": 16,
      "outputs": []
    },
    {
      "cell_type": "code",
      "source": [
        "from sklearn.model_selection import train_test_split\n",
        "\n",
        "# Supongamos que 'df' es tu DataFrame original que contiene las imágenes y etiquetas\n",
        "X_train_val, X_test, y_train_val, y_test = train_test_split(x, df['encode_label'], test_size=0.10, random_state=42)\n",
        "X_train, X_val, y_train, y_val = train_test_split(X_train_val, y_train_val, test_size=0.15, random_state=42)"
      ],
      "metadata": {
        "id": "AuXMRv_Wnh7H"
      },
      "execution_count": 18,
      "outputs": []
    },
    {
      "cell_type": "markdown",
      "source": [
        "# Datos sin data augmentation\n"
      ],
      "metadata": {
        "id": "1HnDBTXwoL8a"
      }
    },
    {
      "cell_type": "code",
      "source": [
        "from torch.utils.data import DataLoader, TensorDataset\n",
        "\n",
        "# Convertir cada conjunto de datos en tensores\n",
        "x_train_tensors = [torch.tensor(img, dtype=torch.float32) for img in X_train]\n",
        "x_val_tensors = [torch.tensor(img, dtype=torch.float32) for img in X_val]\n",
        "x_test_tensors = [torch.tensor(img, dtype=torch.float32) for img in X_test]\n",
        "\n",
        "X_train_tensor = torch.stack(x_train_tensors)\n",
        "y_train_tensor = torch.tensor(y_train.values, dtype=torch.long)\n",
        "\n",
        "X_val_tensor = torch.stack(x_val_tensors)\n",
        "y_val_tensor = torch.tensor(y_val.values, dtype=torch.long)\n",
        "\n",
        "X_test_tensor = torch.stack(x_test_tensors)\n",
        "y_test_tensor = torch.tensor(y_test.values, dtype=torch.long)\n",
        "\n",
        "# Crear TensorDataset para cada conjunto\n",
        "train_dataset = TensorDataset(X_train_tensor, y_train_tensor)\n",
        "val_dataset = TensorDataset(X_val_tensor, y_val_tensor)\n",
        "test_dataset = TensorDataset(X_test_tensor, y_test_tensor)\n",
        "\n",
        "# Crear DataLoader para iterar sobre los datasets en lotes\n",
        "batch_size = 32\n",
        "\n",
        "train_loader = DataLoader(train_dataset, batch_size=batch_size, shuffle=True)\n",
        "val_loader = DataLoader(val_dataset, batch_size=batch_size, shuffle=False)\n",
        "test_loader = DataLoader(test_dataset, batch_size=batch_size, shuffle=False)"
      ],
      "metadata": {
        "id": "RlIsB4cIWlyq"
      },
      "execution_count": 25,
      "outputs": []
    },
    {
      "cell_type": "markdown",
      "source": [
        "# Datos con data augmentation"
      ],
      "metadata": {
        "id": "b4PHHssDoTuy"
      }
    },
    {
      "cell_type": "code",
      "source": [
        "import torch\n",
        "import torchvision.transforms as transforms\n",
        "from torch.utils.data import DataLoader, TensorDataset\n",
        "\n",
        "# Definir las transformaciones de data augmentation\n",
        "data_augmentation = transforms.Compose([\n",
        "    transforms.RandomHorizontalFlip(),\n",
        "    transforms.RandomRotation(10),\n",
        "    transforms.ColorJitter(brightness=0.2, contrast=0.2, saturation=0.2, hue=0.2)\n",
        "])\n",
        "\n",
        "# Convertir cada conjunto de datos en tensores y aplicar permutación para asegurarse del formato correcto\n",
        "x_train_tensors = [torch.tensor(img, dtype=torch.float32).permute(2, 0, 1) for img in X_train]  # De [H, W, C] a [C, H, W]\n",
        "x_val_tensors = [torch.tensor(img, dtype=torch.float32).permute(2, 0, 1) for img in X_val]\n",
        "x_test_tensors = [torch.tensor(img, dtype=torch.float32).permute(2, 0, 1) for img in X_test]\n",
        "\n",
        "X_train_tensor = torch.stack(x_train_tensors)\n",
        "y_train_tensor = torch.tensor(y_train.values, dtype=torch.long)\n",
        "\n",
        "X_val_tensor = torch.stack(x_val_tensors)\n",
        "y_val_tensor = torch.tensor(y_val.values, dtype=torch.long)\n",
        "\n",
        "X_test_tensor = torch.stack(x_test_tensors)\n",
        "y_test_tensor = torch.tensor(y_test.values, dtype=torch.long)\n",
        "\n",
        "# Crear TensorDataset para cada conjunto\n",
        "train_dataset = TensorDataset(X_train_tensor, y_train_tensor)\n",
        "val_dataset = TensorDataset(X_val_tensor, y_val_tensor)\n",
        "test_dataset = TensorDataset(X_test_tensor, y_test_tensor)\n",
        "\n",
        "# Aplicar data augmentation solo en el DataLoader de entrenamiento\n",
        "def train_collate_fn(batch):\n",
        "    augmented_images = []\n",
        "    labels = []\n",
        "    for img, label in batch:\n",
        "        img = data_augmentation(img)  # Aplicar data augmentation\n",
        "        augmented_images.append(img)\n",
        "        labels.append(label)\n",
        "    return torch.stack(augmented_images), torch.tensor(labels)\n",
        "\n",
        "# Crear DataLoader para iterar sobre los datasets en lotes\n",
        "batch_size = 32\n",
        "\n",
        "# DataLoader de entrenamiento con data augmentation\n",
        "train_loader = DataLoader(train_dataset, batch_size=batch_size, shuffle=True, collate_fn=train_collate_fn)\n",
        "\n",
        "# DataLoader de validación y prueba sin data augmentation\n",
        "val_loader = DataLoader(val_dataset, batch_size=batch_size, shuffle=False)\n",
        "test_loader = DataLoader(test_dataset, batch_size=batch_size, shuffle=False)"
      ],
      "metadata": {
        "id": "mZ40cOaZmpZx"
      },
      "execution_count": 19,
      "outputs": []
    },
    {
      "cell_type": "code",
      "source": [
        "import torch.nn as nn\n",
        "import torchvision.models as models\n",
        "\n",
        "# Cargar el modelo ResNet-50 preentrenado\n",
        "model = models.resnet50(weights='ResNet50_Weights.DEFAULT')\n",
        "\n",
        "# Reemplazar la última capa (fc) con un bloque similar al que usaste en TensorFlow\n",
        "model.avgpool = nn.AdaptiveAvgPool2d((1, 1))\n",
        "num_ftrs = model.fc.in_features\n",
        "model.fc = nn.Sequential(\n",
        "    nn.Linear(num_ftrs, 5),        # Capa totalmente conectada con 5 salidas\n",
        "    nn.Softmax(dim=1)              # Softmax para obtener probabilidades\n",
        ")\n",
        "\n",
        "# Congelar todas las capas excepto las últimas\n",
        "for param in model.parameters():\n",
        "    param.requires_grad = False\n",
        "\n",
        "for param in model.fc.parameters():\n",
        "    param.requires_grad = True\n"
      ],
      "metadata": {
        "colab": {
          "base_uri": "https://localhost:8080/"
        },
        "id": "Kh8g8XKwaCer",
        "outputId": "fe150b19-7eab-4d95-909d-3a493a4e30bf"
      },
      "execution_count": 20,
      "outputs": [
        {
          "output_type": "stream",
          "name": "stderr",
          "text": [
            "Downloading: \"https://download.pytorch.org/models/resnet50-11ad3fa6.pth\" to /root/.cache/torch/hub/checkpoints/resnet50-11ad3fa6.pth\n",
            "100%|██████████| 97.8M/97.8M [00:00<00:00, 201MB/s]\n"
          ]
        }
      ]
    },
    {
      "cell_type": "code",
      "source": [
        "criterion = torch.nn.CrossEntropyLoss()\n",
        "# Reajustar el optimizador con un learning rate más bajo para el fine-tuning\n",
        "optimizer = torch.optim.SGD(filter(lambda p: p.requires_grad, model.parameters()), lr=0.01, momentum=0.9)\n"
      ],
      "metadata": {
        "id": "w6ibXZQAaAq1"
      },
      "execution_count": 21,
      "outputs": []
    },
    {
      "cell_type": "code",
      "source": [
        "def train_model(model, criterion, optimizer, train_loader,val_loader, num_epochs=3, device=device):\n",
        "    model.to(device)  # Mover el modelo al dispositivo adecuado (CPU o GPU)\n",
        "    model.train()  # Poner el modelo en modo de entrenamiento\n",
        "\n",
        "    for epoch in range(num_epochs):\n",
        "        running_loss = 0.0  # Acumulador para la pérdida\n",
        "\n",
        "        for inputs, labels in train_loader:\n",
        "            inputs, labels = inputs.to(device), labels.to(device)  # Mover los datos al dispositivo\n",
        "            #print(f\"Shape of inputs: {inputs.shape}\") #solo necesario para validar las dimensiones del tensor comentado para evitar impresion\n",
        "            optimizer.zero_grad()  # Resetear los gradientes\n",
        "\n",
        "            # Asegurarse de que los datos están en el formato correcto\n",
        "            if inputs.ndim == 4 and inputs.shape[1] != 3:\n",
        "                inputs = inputs.permute(0, 3, 1, 2)\n",
        "\n",
        "            inputs = inputs.float()  # Asegurarse de que las entradas son de tipo float32\n",
        "\n",
        "            outputs = model(inputs)  # Forward pass\n",
        "            loss = criterion(outputs, labels)  # Calcular la pérdida\n",
        "            loss.backward()  # Backpropagation\n",
        "            optimizer.step()  # Actualizar los pesos\n",
        "\n",
        "            running_loss += loss.item() * inputs.size(0)  # Acumular la pérdida multiplicada por el tamaño del lote\n",
        "            #print(f\"Epoch {epoch+1}/{num_epochs} Loss: {running_loss/len(X_train)}\")\n",
        "        # Calcular la pérdida promedio por época\n",
        "        epoch_loss = running_loss / len(train_loader.dataset)\n",
        "        print(f\"Epoch {epoch+1}/{num_epochs} Loss: {epoch_loss:.4f}\")\n",
        "   # Validación (si se proporciona un val_loader)\n",
        "        if val_loader:\n",
        "            model.eval()\n",
        "            val_loss = 0.0\n",
        "            correct = 0\n",
        "            total = 0\n",
        "\n",
        "            with torch.no_grad():\n",
        "                for val_inputs, val_labels in val_loader:\n",
        "                    val_inputs, val_labels = val_inputs.to(device), val_labels.to(device)\n",
        "\n",
        "                    # Asegurarse de que el tensor esté en el formato [batch_size, 3, height, width]\n",
        "                    if val_inputs.ndim == 4 and val_inputs.shape[1] != 3:\n",
        "                        val_inputs = val_inputs.permute(0, 3, 1, 2)  # Cambiar a [batch_size, 3, height, width]\n",
        "\n",
        "                    val_outputs = model(val_inputs)\n",
        "                    loss = criterion(val_outputs, val_labels)\n",
        "                    val_loss += loss.item() * val_inputs.size(0)\n",
        "\n",
        "                    _, predicted = torch.max(val_outputs, 1)\n",
        "                    correct += (predicted == val_labels).sum().item()\n",
        "                    total += val_labels.size(0)\n",
        "\n",
        "            val_loss /= len(val_loader.dataset)\n",
        "            accuracy = correct / total\n",
        "            print(f\"Epoch {epoch+1}/{num_epochs} Validation Loss: {val_loss:.4f}, Accuracy: {accuracy:.4f}\")\n",
        "            model.train()  # Volver al modo de entrenamiento después de la validación\n",
        "\n"
      ],
      "metadata": {
        "id": "jpjp8PnuhA_Y"
      },
      "execution_count": 22,
      "outputs": []
    },
    {
      "cell_type": "code",
      "source": [
        "train_model(model=model, criterion=criterion, optimizer=optimizer, train_loader=train_loader, val_loader=val_loader, num_epochs=3, device=device)"
      ],
      "metadata": {
        "colab": {
          "base_uri": "https://localhost:8080/"
        },
        "id": "v7Jp1KVzZOQG",
        "outputId": "cd1c99c5-4f28-466b-8e7f-31b16918bc66"
      },
      "execution_count": 26,
      "outputs": [
        {
          "output_type": "stream",
          "name": "stdout",
          "text": [
            "Epoch 1/3 Loss: 1.1065\n",
            "Epoch 1/3 Validation Loss: 1.0799, Accuracy: 0.8919\n",
            "Epoch 2/3 Loss: 1.0809\n",
            "Epoch 2/3 Validation Loss: 1.0602, Accuracy: 0.8919\n",
            "Epoch 3/3 Loss: 1.0635\n",
            "Epoch 3/3 Validation Loss: 1.0521, Accuracy: 0.8902\n"
          ]
        }
      ]
    },
    {
      "cell_type": "code",
      "source": [
        "def evaluate_model(model, test_loader, device='cuda'):\n",
        "    model.eval()\n",
        "    test_loss = 0.0\n",
        "    correct = 0\n",
        "    total = 0\n",
        "\n",
        "    with torch.no_grad():\n",
        "        for inputs, labels in test_loader:\n",
        "            inputs, labels = inputs.to(device), labels.to(device)\n",
        "            if inputs.ndim == 4 and inputs.shape[1] != 3:\n",
        "                inputs = inputs.permute(0, 3, 1, 2)\n",
        "            outputs = model(inputs)\n",
        "            test_loss += criterion(outputs, labels).item() * inputs.size(0)\n",
        "            _, predicted = torch.max(outputs, 1)\n",
        "            correct += (predicted == labels).sum().item()\n",
        "            total += labels.size(0)\n",
        "\n",
        "    accuracy = correct / total\n",
        "    print(f\"Test Accuracy: {accuracy:.4f}\")\n",
        "    print(f'Test set: Average loss: {test_loss:.4f}, Accuracy: {correct}/{len(test_loader.dataset)} ({accuracy:.4f}%)')\n",
        "\n",
        "# Evaluar el modelo en el conjunto de prueba\n",
        "evaluate_model(model, test_loader, device='cuda')\n"
      ],
      "metadata": {
        "colab": {
          "base_uri": "https://localhost:8080/"
        },
        "id": "bXTqMEWPfyJg",
        "outputId": "87c5fdc4-a968-414f-a55c-d834bda5575e"
      },
      "execution_count": 27,
      "outputs": [
        {
          "output_type": "stream",
          "name": "stdout",
          "text": [
            "Test Accuracy: 0.8935\n",
            "Test set: Average loss: 459.1141, Accuracy: 386/432 (0.8935%)\n"
          ]
        }
      ]
    },
    {
      "cell_type": "markdown",
      "source": [
        "# Experimentos (todo comentado no es necesario correr)\n",
        "\n",
        "```\n",
        "Resultado data augmentation\n",
        "\n",
        "Train\n",
        "Epoch 1/3 Loss: 1.4285\n",
        "Epoch 1/3 Validation Loss: 1.2503, Accuracy: 0.8027\n",
        "Epoch 2/3 Loss: 1.2274\n",
        "Epoch 2/3 Validation Loss: 1.1487, Accuracy: 0.8370\n",
        "Epoch 3/3 Loss: 1.1646\n",
        "Epoch 3/3 Validation Loss: 1.1108, Accuracy: 0.8611\n",
        "Test\n",
        "Test Accuracy: 0.8519\n",
        "Test set: Average loss: 486.4041, Accuracy: 368/432 (0.8519%)\n",
        "\n",
        "\n",
        "Resultado sin data augmentation\n",
        "\n",
        "Train\n",
        "Epoch 1/3 Loss: 1.1065\n",
        "Epoch 1/3 Validation Loss: 1.0799, Accuracy: 0.8919\n",
        "Epoch 2/3 Loss: 1.0809\n",
        "Epoch 2/3 Validation Loss: 1.0602, Accuracy: 0.8919\n",
        "Epoch 3/3 Loss: 1.0635\n",
        "Epoch 3/3 Validation Loss: 1.0521, Accuracy: 0.8902\n",
        "Test\n",
        "Test Accuracy: 0.8935\n",
        "Test set: Average loss: 459.1141, Accuracy: 386/432 (0.8935%)\n"
      ],
      "metadata": {
        "id": "ZI2oCjTSlqYR"
      }
    },
    {
      "cell_type": "code",
      "source": [
        "#from torch.utils.data import DataLoader, TensorDataset\n",
        "\n",
        "\n",
        "# Convertir cada imagen de numpy array a tensor\n",
        "#x_tensors = [torch.tensor(img, dtype=torch.float32) for img in x]\n",
        "\n",
        "# Combinar la lista de tensores en un solo tensor\n",
        "#X_train = torch.stack(x_tensors)\n",
        "#y_train = torch.tensor(df['encode_label'].values, dtype=torch.long)  # Asegúrate de que las etiquetas son de tipo long\n",
        "\n",
        "\n",
        "# Crear un TensorDataset combinando las imágenes y las etiquetas\n",
        "#train_dataset = TensorDataset(X_train, y_train)\n",
        "\n",
        "# Crear un DataLoader para iterar sobre el dataset en lotes\n",
        "#train_loader = DataLoader(train_dataset, batch_size=32, shuffle=True)"
      ],
      "metadata": {
        "id": "F0UGNbeFQ_W-"
      },
      "execution_count": null,
      "outputs": []
    },
    {
      "cell_type": "code",
      "execution_count": null,
      "metadata": {
        "id": "koa-V1B1AWj7",
        "colab": {
          "base_uri": "https://localhost:8080/"
        },
        "outputId": "a90b5d9c-f2a0-4e15-b933-1fe9ce8f3294"
      },
      "outputs": [
        {
          "output_type": "stream",
          "name": "stdout",
          "text": [
            "Shape of X [N, C, H, W]: torch.Size([32, 224, 224, 3])\n",
            "Shape of y: torch.Size([32]) torch.int64\n"
          ]
        }
      ],
      "source": [
        "# using dataloader\n",
        "#X_train = DataLoader(x, batch_size=32, shuffle=True)\n",
        "#y_train = DataLoader(df['encode_label'], batch_size=32, shuffle=True)\n",
        "\n",
        "#for X_train, y_train in zip(X_train, y_train):\n",
        "    #print(f\"Shape of X [N, C, H, W]: {X_train.shape}\")\n",
        "    #print(f\"Transformed X [N, C, H, W]:{X_train.permute(0, 3, 1, 2).shape}\")\n",
        "    #print(f\"Shape of y: {y_train.shape} {y_train.dtype}\")\n",
        "    #break\n",
        "\n",
        "#X_train.to(device)\n",
        "#y_train.to(device)"
      ]
    },
    {
      "cell_type": "code",
      "execution_count": null,
      "metadata": {
        "id": "5R09Z8ok_4nq"
      },
      "outputs": [],
      "source": [
        "#model = models.resnet50(pretrained=True)\n",
        "\n",
        "#model.avgpool = nn.AdaptiveAvgPool2d((1, 1))\n",
        "#num_ftrs = model.fc.in_features\n",
        "#model.fc = nn.Sequential(\n",
        "#    nn.Linear(num_ftrs, 5),\n",
        "#    nn.Softmax(dim=1)\n",
        "#)\n"
      ]
    },
    {
      "cell_type": "code",
      "execution_count": null,
      "metadata": {
        "id": "j_pGstGtA06r"
      },
      "outputs": [],
      "source": [
        "# train Model\n",
        "#criterion = torch.nn.CrossEntropyLoss()\n",
        "#optimizer = torch.optim.SGD(model.parameters(), lr=0.1, momentum=0.9)"
      ]
    },
    {
      "cell_type": "code",
      "execution_count": null,
      "metadata": {
        "id": "Nzf8ppD-A4t9"
      },
      "outputs": [],
      "source": [
        "# train model\n",
        "#def train_model(model, criterion, optimizer, num_epochs=3 ,device=device):\n",
        "#  model.to(device)\n",
        "#  model.train()\n",
        "  # Cast the model weights to double precision (float64)\n",
        "#  model = model.double()\n",
        "#  for epoch in range(num_epochs):\n",
        "#    running_loss = 0.0\n",
        "#    for inputs, labels in zip(X_train, y_train):\n",
        "      #inputs = inputs.to(device)\n",
        "      #labels = labels.to(device)\n",
        "#      optimizer.zero_grad()\n",
        "#      print(f\"Shape of inputs: {inputs.shape}\")\n",
        "      # Permute the dimensions of the input tensor\n",
        "#      inputs = inputs.permute(0, 3, 1, 2) # Change the order of dimensions from [batch_size, height, width, channels] to [batch_size, channels, height, width]\n",
        "      # Cast the inputs to double precision (float64)\n",
        "#      inputs = inputs.double()\n",
        "#      outputs = model(inputs)\n",
        "#      loss = criterion(outputs, labels)\n",
        "#      loss.backward()\n",
        "#      optimizer.step()\n",
        "#      running_loss += loss.item() * inputs.size(0)\n",
        "#      print(f\"Epoch {epoch+1}/{num_epochs} Loss: {running_loss/len(X_train)}\")\n",
        "\n",
        "#def train_model(model, criterion, optimizer, train_loader, num_epochs=3, device=device):\n",
        "#    model.to(device)  # Mover el modelo al dispositivo adecuado (CPU o GPU)\n",
        "#    model.train()  # Poner el modelo en modo de entrenamiento\n",
        "\n",
        "#    for epoch in range(num_epochs):\n",
        "#        running_loss = 0.0  # Acumulador para la pérdida\n",
        "\n",
        "#        for inputs, labels in train_loader:\n",
        "#            inputs, labels = inputs.to(device), labels.to(device)  # Mover los datos al dispositivo\n",
        "#            print(f\"Shape of inputs: {inputs.shape}\")\n",
        "#            optimizer.zero_grad()  # Resetear los gradientes\n",
        "\n",
        "            # Asegurarse de que los datos están en el formato correcto\n",
        "#           if inputs.ndim == 4 and inputs.shape[1] != 3:\n",
        "#                inputs = inputs.permute(0, 3, 1, 2)\n",
        "\n",
        "#          inputs = inputs.float()  # Asegurarse de que las entradas son de tipo float32\n",
        "\n",
        "#            outputs = model(inputs)  # Forward pass\n",
        "#            loss = criterion(outputs, labels)  # Calcular la pérdida\n",
        "#            loss.backward()  # Backpropagation\n",
        "#            optimizer.step()  # Actualizar los pesos\n",
        "\n",
        " #           running_loss += loss.item() * inputs.size(0)  # Acumular la pérdida multiplicada por el tamaño del lote\n",
        " #           print(f\"Epoch {epoch+1}/{num_epochs} Loss: {running_loss/len(X_train)}\")\n",
        "        # Calcular la pérdida promedio por época\n",
        " #       epoch_loss = running_loss / len(train_loader.dataset)\n",
        " #       print(f\"Epoch {epoch+1}/{num_epochs} Loss: {epoch_loss:.4f}\")\n"
      ]
    },
    {
      "cell_type": "code",
      "source": [
        "#def train_model(model, criterion, optimizer, train_loader, num_epochs=3, device=device):\n",
        " #   model.to(device)  # Mover el modelo al dispositivo adecuado (CPU o GPU)\n",
        "  #  model.train()  # Poner el modelo en modo de entrenamiento\n",
        "\n",
        "   # for epoch in range(num_epochs):\n",
        "    #    running_loss = 0.0  # Acumulador para la pérdida\n",
        "\n",
        "     #   for inputs, labels in train_loader:\n",
        "      #      inputs, labels = inputs.to(device), labels.to(device)  # Mover los datos al dispositivo\n",
        "       #     print(f\"Shape of inputs: {inputs.shape}\")\n",
        "        #    optimizer.zero_grad()  # Resetear los gradientes\n",
        "\n",
        "            # Asegurarse de que los datos están en el formato correcto\n",
        "         #   if inputs.ndim == 4 and inputs.shape[1] != 3:\n",
        "          #      inputs = inputs.permute(0, 3, 1, 2)\n",
        "\n",
        "           # inputs = inputs.float()  # Asegurarse de que las entradas son de tipo float32\n",
        "\n",
        "            #outputs = model(inputs)  # Forward pass\n",
        "            #loss = criterion(outputs, labels)  # Calcular la pérdida\n",
        "            #loss.backward()  # Backpropagation\n",
        "            #optimizer.step()  # Actualizar los pesos\n",
        "\n",
        "            #running_loss += loss.item() * inputs.size(0)  # Acumular la pérdida multiplicada por el tamaño del lote\n",
        "            #print(f\"Epoch {epoch+1}/{num_epochs} Loss: {running_loss/len(X_train)}\")\n",
        "        # Calcular la pérdida promedio por época\n",
        "        #epoch_loss = running_loss / len(train_loader.dataset)\n",
        "        #print(f\"Epoch {epoch+1}/{num_epochs} Loss: {epoch_loss:.4f}\")"
      ],
      "metadata": {
        "id": "qjcB5shcoRCn"
      },
      "execution_count": null,
      "outputs": []
    },
    {
      "cell_type": "code",
      "execution_count": null,
      "metadata": {
        "id": "70QkOQoHCEND"
      },
      "outputs": [],
      "source": [
        "# Test Model\n",
        "#def test_model(model):\n",
        "#  model.eval()\n",
        "#  test_loss = 0.0\n",
        "#  correct = 0\n",
        "#  with torch.no_grad():\n",
        "#    for inputs, labels in zip(X_train, y_train):\n",
        "      # Permute the dimensions of the input tensor\n",
        "#      inputs = inputs.permute(0, 3, 1, 2) # Change the order of dimensions from [batch_size, height, width, channels] to [batch_size, channels, height, width]\n",
        "#      outputs = model(inputs)\n",
        "#      test_loss += criterion(outputs, labels).item() * inputs.size(0)\n",
        "#      pred = outputs.argmax(dim=1, keepdim=True)\n",
        "#      correct += pred.eq(labels.view_as(pred)).sum().item()\n",
        "#  test_loss /= len(X_train.dataset)\n",
        "#  test_accuracy = 100. * correct / len(X_train.dataset)\n",
        "#  print(f'Test set: Average loss: {test_loss:.4f}, Accuracy: {correct}/{len(X_train.dataset)} ({test_accuracy:.0f}%)')"
      ]
    },
    {
      "cell_type": "code",
      "execution_count": null,
      "metadata": {
        "id": "xjNNJgiFAMGh"
      },
      "outputs": [],
      "source": [
        "# training\n",
        "#train_model(model, criterion, optimizer, train_loader,num_epochs=3, device=device)"
      ]
    },
    {
      "cell_type": "code",
      "execution_count": null,
      "metadata": {
        "id": "mqjMpz60APr-"
      },
      "outputs": [],
      "source": []
    }
  ],
  "metadata": {
    "accelerator": "GPU",
    "colab": {
      "gpuType": "L4",
      "provenance": [],
      "machine_shape": "hm"
    },
    "kernelspec": {
      "display_name": "Python 3",
      "name": "python3"
    },
    "language_info": {
      "codemirror_mode": {
        "name": "ipython",
        "version": 3
      },
      "file_extension": ".py",
      "mimetype": "text/x-python",
      "name": "python",
      "nbconvert_exporter": "python",
      "pygments_lexer": "ipython3",
      "version": "3.12.5"
    }
  },
  "nbformat": 4,
  "nbformat_minor": 0
}