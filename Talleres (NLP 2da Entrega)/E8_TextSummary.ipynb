{
  "nbformat": 4,
  "nbformat_minor": 0,
  "metadata": {
    "colab": {
      "provenance": []
    },
    "kernelspec": {
      "name": "python3",
      "display_name": "Python 3"
    },
    "language_info": {
      "name": "python"
    }
  },
  "cells": [
    {
      "cell_type": "markdown",
      "source": [
        "## Text Summary\n",
        "\n",
        "Text summarization is important in the field of machine learning and natural language processing for several reasons:\n",
        "\n",
        "1. **Information Retrieval:** Text summarization helps users quickly grasp the main points or key information from a large document, making it easier to decide whether to read the full document or not. This is particularly valuable in scenarios where individuals are inundated with vast amounts of textual data, such as news articles, research papers, or social media posts.\n",
        "\n",
        "2. **Time Efficiency:** Summarization algorithms can process and generate summaries much faster than humans can read and summarize large texts. This saves time and allows users to focus their attention on the most relevant content.\n",
        "\n",
        "3. **Content Extraction:** Text summarization can automatically extract essential information from a document, enabling applications like content recommendation, keyword extraction, and topic modeling.\n",
        "\n",
        "4. **Content Generation:** Summarization models can be used to generate concise, coherent, and informative summaries for various purposes, such as creating abstracts for research papers, news article headlines, or social media post previews.\n",
        "\n",
        "5. **Multilingual Support:** Text summarization can be applied to texts in multiple languages, making it a valuable tool for global communication and information retrieval.\n",
        "\n",
        "6. **Personalization:** Summarization can be personalized to individual preferences. Machine learning models can learn from user feedback to generate summaries that align more closely with a user's interests and priorities.\n",
        "\n",
        "7. **Scalability:** As the volume of digital content continues to grow, automated summarization becomes crucial for scaling information processing and retrieval. Machine learning-based summarization models can adapt and handle large volumes of text efficiently.\n",
        "\n",
        "8. **Legal and Compliance:** In legal and regulatory contexts, automated summarization can help organizations review contracts, policies, and legal documents to ensure compliance and identify critical clauses or information.\n",
        "\n",
        "9. **Search Engine Optimization (SEO):** Summarized content can be used to create concise and engaging snippets for search engine results, improving the discoverability of web content.\n",
        "\n",
        "10. **Content Creation:** Summarization can be integrated into content creation tools, helping authors and content creators generate concise and informative content more efficiently.\n",
        "\n",
        "Overall, text summarization is an essential component of machine learning and natural language processing, enabling efficient information retrieval, content extraction, and content generation across a wide range of applications and industries. It plays a critical role in handling the ever-increasing amount of textual data available in the digital age."
      ],
      "metadata": {
        "id": "n2NseOxJAIFM"
      }
    },
    {
      "cell_type": "markdown",
      "source": [
        "---\n",
        "Exercise:\n",
        "\n",
        "Now, as a data scientist expert in NLP, you are asked to create a model to be able to summarize text in Spanish. Your stakeholders will pass you an article and your model should summarize it."
      ],
      "metadata": {
        "id": "0voj5DTPAukU"
      }
    },
    {
      "cell_type": "code",
      "execution_count": null,
      "metadata": {
        "colab": {
          "base_uri": "https://localhost:8080/"
        },
        "id": "bw-K8uOkAG95",
        "outputId": "59bd30f0-afe9-4f31-940b-0a52478bff2a"
      },
      "outputs": [
        {
          "output_type": "stream",
          "name": "stdout",
          "text": [
            "Requirement already satisfied: requests in /usr/local/lib/python3.10/dist-packages (2.32.3)\n",
            "Requirement already satisfied: beautifulsoup4 in /usr/local/lib/python3.10/dist-packages (4.12.3)\n",
            "Requirement already satisfied: charset-normalizer<4,>=2 in /usr/local/lib/python3.10/dist-packages (from requests) (3.3.2)\n",
            "Requirement already satisfied: idna<4,>=2.5 in /usr/local/lib/python3.10/dist-packages (from requests) (3.10)\n",
            "Requirement already satisfied: urllib3<3,>=1.21.1 in /usr/local/lib/python3.10/dist-packages (from requests) (2.2.3)\n",
            "Requirement already satisfied: certifi>=2017.4.17 in /usr/local/lib/python3.10/dist-packages (from requests) (2024.8.30)\n",
            "Requirement already satisfied: soupsieve>1.2 in /usr/local/lib/python3.10/dist-packages (from beautifulsoup4) (2.6)\n"
          ]
        }
      ],
      "source": [
        "!pip install requests beautifulsoup4"
      ]
    },
    {
      "cell_type": "code",
      "source": [
        "import requests\n",
        "from bs4 import BeautifulSoup\n",
        "\n",
        "# URL del artículo\n",
        "url = \"https://time.com/collection/time100-ai/6309026/geoffrey-hinton/\"\n",
        "\n",
        "# Realizar una solicitud HTTP para obtener el contenido de la página\n",
        "response = requests.get(url)\n",
        "\n",
        "# Verificar si la solicitud fue exitosa\n",
        "if response.status_code == 200:\n",
        "    # Analizar el contenido HTML de la página con BeautifulSoup\n",
        "    soup = BeautifulSoup(response.text, \"html.parser\")\n",
        "\n",
        "    # Encontrar el contenido del artículo (puedes inspeccionar el HTML de la página para encontrar la estructura adecuada)\n",
        "    article_content = soup.find(\"div\", {\"class\": \"article-content\"})\n",
        "\n",
        "    # Extraer el texto del artículo\n",
        "    article_text = \"\"\n",
        "    for paragraph in article_content.find_all(\"p\"):\n",
        "        article_text += paragraph.get_text() + \"\\n\"\n",
        "\n",
        "    # Imprimir el texto del artículo\n",
        "    print(article_text)\n",
        "else:\n",
        "    print(\"Error al obtener la página:\", response.status_code)"
      ],
      "metadata": {
        "colab": {
          "base_uri": "https://localhost:8080/"
        },
        "id": "9hKs-JhtBwzf",
        "outputId": "cba26aab-a87d-4917-9c79-c247a2f9c8d7"
      },
      "execution_count": null,
      "outputs": [
        {
          "output_type": "stream",
          "name": "stdout",
          "text": [
            "Over the course of February, Geoffrey Hinton, one of the most influential AI\n",
            "researchers of the past 50 years, had a “slow eureka moment.”\n",
            "Hinton, 76, has spent his career trying to build AI systems that model the human\n",
            "brain, mostly in academia before joining Google in 2013. He had always believed\n",
            "that the brain was better than the machines that he and others were building,\n",
            "and that by making them more like the brain, they would improve. But in\n",
            "February, he realized “the digital intelligence we’ve got now may be better than\n",
            "the brain already. It’s just not scaled up quite as big.”\n",
            "Developers around the world are currently racing to build the biggest AI systems\n",
            "that they can. Given the current rate at which AI companies are increasing the\n",
            "size of models, it could be less than five years until AI systems have 100\n",
            "trillion connections—roughly as many as there are between neurons in the human\n",
            "brain.\n",
            "Alarmed, Hinton left his post as VP and engineering fellow in May and gave a\n",
            "flurry of interviews in which he explained that he had left in order to be able\n",
            "to speak freely on the dangers of AI—and his regrets over helping bring that\n",
            "technology into existence. He worries about what could happen once AI systems\n",
            "are scaled up to the size of human brains—and the prospect of humanity being\n",
            "wiped out by the technology he helped create. “This stuff will get smarter than\n",
            "us and take over,” says Hinton. “And if you want to know what that feels like,\n",
            "ask a chicken.”\n",
            "Born and raised in England, Hinton comes from a long line of luminaries, with\n",
            "relatives including the mathematician Mary Everest Boole and logician George\n",
            "Boole, whose work is crucial to modern computer science; surgeon James Hinton;\n",
            "and surveyor George Everest, who gave his name to the mountain.\n",
            "The human brain always fascinated Hinton. As a Cambridge University\n",
            "undergraduate, he tried a range of subjects—physiology, physics,\n",
            "philosophy—before graduating with a degree in experimental psychology in 1970.\n",
            "He worked briefly as a carpenter before starting a Ph.D. in AI at the University\n",
            "of Edinburgh, then the U.K.’s only postgraduate program on the subject, in 1972.\n",
            "In the 1970s, artificial intelligence, after failing to live up to its postwar\n",
            "promise, was going through a period of dampened enthusiasm now referred to as\n",
            "the “AI winter.” In this unfashionable field, Hinton pursued an unpopular idea:\n",
            "AI systems known as neural networks, which mimicked the structure of the human\n",
            "brain. His thesis adviser urged him on a weekly basis to change his approach.\n",
            "Each time he replied, “Give me another six months and I’ll prove to you that it\n",
            "works.”\n",
            "Upon completion of his Ph.D., Hinton moved to the U.S., where more funding was\n",
            "available for his research. He published pathbreaking research, for which he was\n",
            "awarded the 2018 Turing Award, in posts at universities across the U.S., before\n",
            "eventually taking a professorship in computer science at the University of\n",
            "Toronto. Toronto has become Hinton’s home base; he travels relatively\n",
            "infrequently because back problems prevent him from sitting down. During car\n",
            "journeys he lies across the back seat; he eats kneeling before a table “like a\n",
            "monk at the altar”; and as he spoke to TIME he swayed gently in front of a\n",
            "head-height camera.\n",
            "In 2012, Hinton and two of his graduate students, Alex Krizhevsky and Ilya\n",
            "Sutskever, now chief scientist at OpenAI, entered ImageNet, a once annual\n",
            "competition in which researchers competed to build the most accurate\n",
            "image-recognition AI systems. They dominated the competition—an emphatic\n",
            "demonstration that neural networks had come of age. Hinton’s persistence had\n",
            "paid off.\n",
            "He and his two students began receiving lucrative offers from big tech\n",
            "companies. They set up a shell company called DNN-research to auction their\n",
            "expertise, and four tech firms—Google, Microsoft, Baidu, and DeepMind—bid tens\n",
            "of millions for the company. After a week, Hinton chose Google over the final\n",
            "bidder, Baidu. In 2013, he joined Google Brain, the cutting-edge\n",
            "machine-learning team he left in May.\n",
            "Hinton has been instrumental in the development and popularization of neural\n",
            "networks, the dominant AI development paradigm that has allowed huge amounts of\n",
            "data to be ingested and processed, leading to advances in image recognition,\n",
            "language understanding, and self-driving cars. His work has potentially hastened\n",
            "the future he fears, in which AI becomes superhuman with disastrous results for\n",
            "humans. In an interview with the New York Times, Hinton said, “I console myself\n",
            "with the normal excuse: If I hadn’t done it, somebody else would have.”\n",
            "Hinton does not know how to prevent superhuman AI systems from taking over. If\n",
            "there’s any hope, he says, it lies with the next generation, noting that he\n",
            "feels too old to continue contributing to research. Many scientists switch to\n",
            "policy work later in their careers, but he declined Google’s offer to take such\n",
            "a role at the company. “I’ve never been very good at or interested in policy\n",
            "issues,” he tells TIME. “I’m a scientist.”\n",
            "Instead, Hinton has spent the past few months sounding the alarm—he can explain\n",
            "the technical details of AI in an accessible way as well as anyone and spends\n",
            "much of his time giving interviews to raise public awareness. He has also spoken\n",
            "with policymakers, including officials in the U.K. Prime Minister’s office,\n",
            "Canadian Prime Minister Justin Trudeau, Executive Vice-President of the European\n",
            "Commission Margrethe Vestager, and U.S. Senators Bernie Sanders and Jon Ossoff.\n",
            "While on a theoretical level he now grasps the risks from AI, Hinton says that\n",
            "his emotions haven’t yet caught up. “The idea that we’re going to be replaced as\n",
            "the apex intelligence is just very hard to get your head around.”\n",
            "But for now, he takes his cues from another relative: his cousin Joan Hinton was\n",
            "one of the only women scientists to work on the Manhattan Project. After the\n",
            "nuclear weapons that she helped to create were dropped on Hiroshima and\n",
            "Nagasaki, she became a peace activist. In 1948 she moved to China, and she spent\n",
            "most of the rest of her life working on dairy farms as an ardent Maoist.\n",
            "Hinton’s own retirement plans are less strident but likewise bucolic: he intends\n",
            "to rediscover carpentry and take long walks.\n",
            "Write to Will Henshall at will.henshall@time.com.\n",
            "\n"
          ]
        }
      ]
    },
    {
      "cell_type": "code",
      "source": [
        "# Uncomment and run this cell if you're on Colab or Kaggle\n",
        "!git clone https://github.com/nlp-with-transformers/notebooks.git\n",
        "%cd notebooks\n",
        "from install import *\n",
        "install_requirements()"
      ],
      "metadata": {
        "id": "StIrHeBAB07H",
        "colab": {
          "base_uri": "https://localhost:8080/"
        },
        "outputId": "1f78485c-d2f9-445c-d0ee-10057eae0c6b"
      },
      "execution_count": null,
      "outputs": [
        {
          "output_type": "stream",
          "name": "stdout",
          "text": [
            "Cloning into 'notebooks'...\n",
            "remote: Enumerating objects: 530, done.\u001b[K\n",
            "remote: Counting objects: 100% (212/212), done.\u001b[K\n",
            "remote: Compressing objects: 100% (50/50), done.\u001b[K\n",
            "remote: Total 530 (delta 184), reused 164 (delta 162), pack-reused 318 (from 1)\u001b[K\n",
            "Receiving objects: 100% (530/530), 28.52 MiB | 12.24 MiB/s, done.\n",
            "Resolving deltas: 100% (253/253), done.\n",
            "Updating files: 100% (127/127), done.\n",
            "/content/notebooks/notebooks\n",
            "⏳ Installing base requirements ...\n",
            "✅ Base requirements installed!\n",
            "⏳ Installing Git LFS ...\n",
            "✅ Git LFS installed!\n"
          ]
        }
      ]
    },
    {
      "cell_type": "code",
      "source": [
        "#hide\n",
        "from utils import *\n",
        "setup_chapter()"
      ],
      "metadata": {
        "colab": {
          "base_uri": "https://localhost:8080/"
        },
        "id": "ZVd9hN_zop0F",
        "outputId": "466e1c44-ede8-4802-a64e-041337dca0ac"
      },
      "execution_count": null,
      "outputs": [
        {
          "output_type": "stream",
          "name": "stdout",
          "text": [
            "No GPU was detected! This notebook can be *very* slow without a GPU 🐢\n",
            "Go to Runtime > Change runtime type and select a GPU hardware accelerator.\n",
            "Using transformers v4.16.2\n",
            "Using datasets v1.16.1\n"
          ]
        }
      ]
    },
    {
      "cell_type": "code",
      "source": [
        "#hide_output\n",
        "from transformers import pipeline"
      ],
      "metadata": {
        "id": "NPQODPgXpLul"
      },
      "execution_count": null,
      "outputs": []
    },
    {
      "cell_type": "markdown",
      "source": [
        "#Modelo Vistos en Clase\n",
        "se fragmenta el texto ya que es demasiado largo"
      ],
      "metadata": {
        "id": "OhGtKfdaCtEl"
      }
    },
    {
      "cell_type": "code",
      "source": [
        "summarizer = pipeline(\"summarization\")\n",
        "\n",
        "max_chunk_length = 1024\n",
        "chunks = [article_text[i:i+max_chunk_length] for i in range(0, len(text), max_chunk_length)]\n",
        "\n",
        "\n",
        "summaries = []\n",
        "for chunk in chunks:\n",
        "    summary = summarizer(chunk, max_length=150, min_length=40, do_sample=False)\n",
        "    summaries.append(summary[0]['summary_text'])\n",
        "\n",
        "combined_summary = \" \".join(summaries)\n",
        "\n",
        "translator = pipeline(\"translation_en_to_es\", model=\"Helsinki-NLP/opus-mt-en-es\")\n",
        "translated_summary = translator(combined_summary, clean_up_tokenization_spaces=True)[0]['translation_text']\n",
        "\n",
        "print(translated_summary)\n"
      ],
      "metadata": {
        "colab": {
          "base_uri": "https://localhost:8080/"
        },
        "id": "WbyN_FXq3EDO",
        "outputId": "f0fd0511-fb9b-493b-dfe4-a44ecebafdb9"
      },
      "execution_count": null,
      "outputs": [
        {
          "output_type": "stream",
          "name": "stdout",
          "text": [
            "Geoffrey Hinton, de 76 años, ha pasado su carrera tratando de construir sistemas\n",
            "de IA que modelen el cerebro humano. Siempre había creído que el cerebro era\n",
            "mejor que las máquinas que él y otros estaban construyendo. Pero en febrero, se\n",
            "dio cuenta de que “la inteligencia digital que tenemos ahora puede ser mejor\n",
            "que. el cerebro ya. No es tan grande” Hinton se preocupa por lo que podría\n",
            "suceder una vez que los sistemas de IA se amplían al tamaño de los cerebros\n",
            "humanos. “Esto se volverá más inteligente que nosotros y se hará cargo”, dice.\n",
            "Hinton proviene de una larga línea de luminarias, con parientes como la\n",
            "matemática Mary Everest Boole y el lógico George Boole. En la década de 1970, la\n",
            "inteligencia artificial estaba pasando por un período de entusiasmo más moderado\n",
            "que nosotros y ahora se conoce como el “invierno de AI”. En este campo\n",
            "infasionable, Hinton persiguió una idea impopular: las redes neurales y las\n",
            "empresas de IA se hacen cargo de la investigación.\n"
          ]
        }
      ]
    },
    {
      "cell_type": "markdown",
      "source": [
        "# Modelos que soportan entradas largas"
      ],
      "metadata": {
        "id": "ltKIyaf0C_IY"
      }
    },
    {
      "cell_type": "code",
      "source": [
        "summarizer = pipeline(\"summarization\", model=\"allenai/led-base-16384\")\n",
        "\n",
        "summary = summarizer(article_text, max_length=500, min_length=128, do_sample=False)[0]['summary_text']\n",
        "\n",
        "translator = pipeline(\"translation_en_to_es\", model=\"Helsinki-NLP/opus-mt-en-es\")\n",
        "translated_summary = translator(summary, clean_up_tokenization_spaces=True)[0]['translation_text']\n",
        "\n",
        "print(translated_summary)"
      ],
      "metadata": {
        "colab": {
          "base_uri": "https://localhost:8080/"
        },
        "id": "i5kaNqGq5U88",
        "outputId": "9d2ff52f-596f-45d5-f8b7-ee7baf551f09"
      },
      "execution_count": null,
      "outputs": [
        {
          "output_type": "stream",
          "name": "stdout",
          "text": [
            "A lo largo de febrero, Geoffrey Hinton, uno de los investigadores de IA más\n",
            "influyentes de los últimos 50 años, tuvo un “momento de eureka más lento”.\n",
            "“Hinton, 76, ha pasado su carrera tratando de construir sistemas de IA que\n",
            "modelen el cerebro humano, principalmente en la academia antes de unirse a\n",
            "Google en 2013. Siempre había creído que el cerebro era mejor que las máquinas\n",
            "que él y otros estaban construyendo, y que al hacerlos más parecidos al cerebro,\n",
            "mejorarían. Pero en febrero, se dio cuenta de que “la inteligencia digital que\n",
            "tenemos ahora puede ser mejor que el cerebro ya en los últimos dos años.\n",
            "Simplemente no se ha ampliado tanto como la alarma. ”Hinton’s ged the management\n",
            "on AI is not to the future.\n"
          ]
        }
      ]
    },
    {
      "cell_type": "code",
      "source": [
        "from transformers import pipeline\n",
        "\n",
        "summarizer = pipeline(\"summarization\", model=\"facebook/bart-large-cnn\")\n",
        "\n",
        "summary = summarizer(\n",
        "    article_text,\n",
        "    max_length=600,\n",
        "    min_length=400,\n",
        "    do_sample=False,\n",
        "    truncation=True\n",
        ")[0]['summary_text']\n",
        "\n",
        "translator = pipeline(\"translation\", model=\"Helsinki-NLP/opus-mt-en-es\")\n",
        "translated_summary = translator(summary, clean_up_tokenization_spaces=True)[0]['translation_text']\n",
        "\n",
        "print(translated_summary)"
      ],
      "metadata": {
        "colab": {
          "base_uri": "https://localhost:8080/"
        },
        "id": "pBf-D-cB94mr",
        "outputId": "9bf15374-ba8b-43b0-ae99-16cf0735b8d8"
      },
      "execution_count": null,
      "outputs": [
        {
          "output_type": "stream",
          "name": "stdout",
          "text": [
            "“Geoffrey Hinton es uno de los investigadores de inteligencia artificial más\n",
            "influyentes de los últimos 50 años. Hinton, de 76 años, ha pasado su carrera\n",
            "tratando de construir sistemas de inteligencia artificial que modelen el cerebro\n",
            "humano. En febrero, se dio cuenta de que “la inteligencia digital que tenemos\n",
            "ahora puede ser mejor que el cerebro ya. Simplemente no se ha ampliado tan\n",
            "grande” Hinton se preocupa por lo que podría suceder una vez que los sistemas de\n",
            "inteligencia artificial se amplían hasta el tamaño de los cerebros humanos y la\n",
            "perspectiva de que la humanidad sea aniquilada por la tecnología que ayudó a\n",
            "crear. Ha dejado su puesto como VP y compañero de ingeniería en mayo y ha dado\n",
            "una gran cantidad de datos para ser ingerido y procesado. Su trabajo ha\n",
            "potencialmente apresurado el futuro en el que la inteligencia artificial se\n",
            "convierte en superhumano con resultados desastrosos para los seres humanos,\n",
            "dice. En una entrevista con el New York Times, dijo, “Si yo lo he hecho, la\n",
            "gente lo haría más rápido que en el mundo lo que quiere.\n"
          ]
        }
      ]
    }
  ]
}