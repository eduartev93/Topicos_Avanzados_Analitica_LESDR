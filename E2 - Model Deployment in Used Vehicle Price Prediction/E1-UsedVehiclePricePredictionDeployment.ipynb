{
  "cells": [
    {
      "cell_type": "markdown",
      "metadata": {
        "colab_type": "text",
        "id": "view-in-github"
      },
      "source": [
        "<a href=\"https://colab.research.google.com/github/sergiomora03/AdvancedTopicsAnalytics/blob/main/exercises/E1-UsedVehiclePricePredictionDeployment.ipynb\" target=\"_parent\"><img src=\"https://colab.research.google.com/assets/colab-badge.svg\" alt=\"Open In Colab\"/></a>"
      ]
    },
    {
      "cell_type": "markdown",
      "metadata": {
        "id": "sxFxQIOfeK4F"
      },
      "source": [
        "\n",
        "# E1 - Model Deployment in Used Vehicle Price Prediction"
      ]
    },
    {
      "cell_type": "markdown",
      "metadata": {
        "id": "sJ9F7SjKeK4G"
      },
      "source": [
        "## Introduction\n",
        "\n",
        "- 1.2 Million listings scraped from TrueCar.com - Price, Mileage, Make, Model dataset from Kaggle: [data](https://www.kaggle.com/jpayne/852k-used-car-listings)\n",
        "- Each observation represents the price of an used car"
      ]
    },
    {
      "cell_type": "code",
      "execution_count": 1,
      "metadata": {
        "id": "xbFTQNlbeK4H"
      },
      "outputs": [],
      "source": [
        "%matplotlib inline\n",
        "import pandas as pd\n",
        "import numpy as np\n",
        "import seaborn as sns\n",
        "import matplotlib.pyplot as plt\n",
        "from sklearn.model_selection import KFold, cross_val_score, train_test_split\n",
        "from sklearn.linear_model import LinearRegression\n",
        "from sklearn.ensemble import RandomForestRegressor\n",
        "from sklearn.preprocessing import OneHotEncoder\n",
        "from sklearn.compose import ColumnTransformer\n",
        "from sklearn.pipeline import Pipeline\n",
        "from sklearn.metrics import mean_squared_error\n",
        "from sklearn.preprocessing import StandardScaler\n",
        "from sklearn.datasets import fetch_openml\n",
        "from evidently import ColumnMapping\n",
        "from evidently.report import Report\n",
        "from evidently.metric_preset import DataDriftPreset\n",
        "from scipy.stats import ks_2samp\n",
        "import joblib\n",
        "import os\n",
        "from flask import Flask\n",
        "from flask_restx import Api, Resource, fields\n",
        "from os import stat\n",
        "from flask import request"
      ]
    },
    {
      "cell_type": "code",
      "execution_count": 2,
      "metadata": {
        "id": "G8n9pb2JeK4I"
      },
      "outputs": [],
      "source": [
        "data = pd.read_csv('https://github.com/sergiomora03/AdvancedTopicsAnalytics/raw/main/datasets/dataTrain_carListings.zip')"
      ]
    },
    {
      "cell_type": "code",
      "execution_count": 3,
      "metadata": {
        "colab": {
          "base_uri": "https://localhost:8080/",
          "height": 204
        },
        "id": "7DKvXgDmeK4J",
        "outputId": "3621f360-87c9-450d-d11f-72f098cf9f72"
      },
      "outputs": [
        {
          "data": {
            "text/html": [
              "<div>\n",
              "<style scoped>\n",
              "    .dataframe tbody tr th:only-of-type {\n",
              "        vertical-align: middle;\n",
              "    }\n",
              "\n",
              "    .dataframe tbody tr th {\n",
              "        vertical-align: top;\n",
              "    }\n",
              "\n",
              "    .dataframe thead th {\n",
              "        text-align: right;\n",
              "    }\n",
              "</style>\n",
              "<table border=\"1\" class=\"dataframe\">\n",
              "  <thead>\n",
              "    <tr style=\"text-align: right;\">\n",
              "      <th></th>\n",
              "      <th>Price</th>\n",
              "      <th>Year</th>\n",
              "      <th>Mileage</th>\n",
              "      <th>State</th>\n",
              "      <th>Make</th>\n",
              "      <th>Model</th>\n",
              "    </tr>\n",
              "  </thead>\n",
              "  <tbody>\n",
              "    <tr>\n",
              "      <th>0</th>\n",
              "      <td>21490</td>\n",
              "      <td>2014</td>\n",
              "      <td>31909</td>\n",
              "      <td>MD</td>\n",
              "      <td>Nissan</td>\n",
              "      <td>MuranoAWD</td>\n",
              "    </tr>\n",
              "    <tr>\n",
              "      <th>1</th>\n",
              "      <td>21250</td>\n",
              "      <td>2016</td>\n",
              "      <td>25741</td>\n",
              "      <td>KY</td>\n",
              "      <td>Chevrolet</td>\n",
              "      <td>CamaroCoupe</td>\n",
              "    </tr>\n",
              "    <tr>\n",
              "      <th>2</th>\n",
              "      <td>20925</td>\n",
              "      <td>2016</td>\n",
              "      <td>24633</td>\n",
              "      <td>SC</td>\n",
              "      <td>Hyundai</td>\n",
              "      <td>Santa</td>\n",
              "    </tr>\n",
              "    <tr>\n",
              "      <th>3</th>\n",
              "      <td>14500</td>\n",
              "      <td>2012</td>\n",
              "      <td>84026</td>\n",
              "      <td>OK</td>\n",
              "      <td>Jeep</td>\n",
              "      <td>Grand</td>\n",
              "    </tr>\n",
              "    <tr>\n",
              "      <th>4</th>\n",
              "      <td>32488</td>\n",
              "      <td>2013</td>\n",
              "      <td>22816</td>\n",
              "      <td>TN</td>\n",
              "      <td>Jeep</td>\n",
              "      <td>Wrangler</td>\n",
              "    </tr>\n",
              "  </tbody>\n",
              "</table>\n",
              "</div>"
            ],
            "text/plain": [
              "   Price  Year  Mileage State       Make        Model\n",
              "0  21490  2014    31909    MD     Nissan    MuranoAWD\n",
              "1  21250  2016    25741    KY  Chevrolet  CamaroCoupe\n",
              "2  20925  2016    24633    SC    Hyundai        Santa\n",
              "3  14500  2012    84026    OK       Jeep        Grand\n",
              "4  32488  2013    22816    TN       Jeep     Wrangler"
            ]
          },
          "execution_count": 3,
          "metadata": {},
          "output_type": "execute_result"
        }
      ],
      "source": [
        "data.head()"
      ]
    },
    {
      "cell_type": "code",
      "execution_count": 4,
      "metadata": {
        "colab": {
          "base_uri": "https://localhost:8080/"
        },
        "id": "_aoPSO3KeK4J",
        "outputId": "fb63258d-0ea3-4c43-9e0b-e0846808df29"
      },
      "outputs": [
        {
          "data": {
            "text/plain": [
              "(500000, 6)"
            ]
          },
          "execution_count": 4,
          "metadata": {},
          "output_type": "execute_result"
        }
      ],
      "source": [
        "data.shape"
      ]
    },
    {
      "cell_type": "code",
      "execution_count": 5,
      "metadata": {
        "colab": {
          "base_uri": "https://localhost:8080/"
        },
        "id": "5DZ-QvJLeK4L",
        "outputId": "64940a18-c12e-43bf-f576-dcee13994da9"
      },
      "outputs": [
        {
          "data": {
            "text/plain": [
              "Index(['Price', 'Year', 'Mileage', 'State', 'Make', 'Model'], dtype='object')"
            ]
          },
          "execution_count": 5,
          "metadata": {},
          "output_type": "execute_result"
        }
      ],
      "source": [
        "data.columns"
      ]
    },
    {
      "cell_type": "markdown",
      "metadata": {
        "id": "7iz8pi7CeK4M"
      },
      "source": [
        "# Exercise P0.1 (50%)\n",
        "\n",
        "Develop a machine learning model that predicts the price of the of car using as an input ['Year', 'Mileage', 'State', 'Make', 'Model']\n",
        "\n",
        "#### Evaluation:\n",
        "- 25% - Performance of the models using a manually implemented K-Fold (K=10) cross-validation\n",
        "- 25% - Notebook explaining the process for selecting the best model. You must specify how the calibration of each of the parameters is done and how these change the performance of the model. It is expected that a clear comparison will be made of all implemented models.. Present the most relevant conslusions about the whole process.\n"
      ]
    },
    {
      "cell_type": "code",
      "execution_count": null,
      "metadata": {},
      "outputs": [],
      "source": [
        "#recudir dimensionalidad --------------- se puede omitir este paso el modelo corre con todas la variables -- Raul\n",
        "top_models = data['Model'].value_counts().nlargest(50).index\n",
        "data['Model_reduced'] = data['Model'].apply(lambda x: x if x in top_models else 'Other')\n",
        "data.drop('Model', axis=1, inplace=True)\n",
        "data.rename(columns={'Model_reduced': 'Model'}, inplace=True)"
      ]
    },
    {
      "cell_type": "code",
      "execution_count": 3,
      "metadata": {},
      "outputs": [],
      "source": [
        "data['Mileage'] = np.log1p(data['Mileage'])"
      ]
    },
    {
      "cell_type": "code",
      "execution_count": 4,
      "metadata": {},
      "outputs": [],
      "source": [
        "df=data\n",
        "percentile_95 = df['Price'].quantile(0.95)\n",
        "df = df[df['Price'] <= percentile_95]"
      ]
    },
    {
      "cell_type": "code",
      "execution_count": 5,
      "metadata": {},
      "outputs": [],
      "source": [
        "# Filtrar datos hasta 2010\n",
        "data_train = df[df['Year'] <= 2010]\n",
        "X = data_train[['Year', 'Mileage', 'State', 'Make', 'Model']]\n",
        "y = data_train['Price']"
      ]
    },
    {
      "cell_type": "code",
      "execution_count": 6,
      "metadata": {
        "id": "tg0ku6tPeK4N"
      },
      "outputs": [
        {
          "name": "stdout",
          "output_type": "stream",
          "text": [
            "Linear Regression MSE: 8943236.5806 (+/- 336134.7546)\n",
            "Random Forest MSE: 18879588.4664 (+/- 346061.5178)\n",
            "El mejor modelo es: Linear Regression con MSE: 8943236.5806\n",
            "Modelo Linear Regression guardado exitosamente como 'model_deployment/best_model.pkl'\n"
          ]
        }
      ],
      "source": [
        "# Pipeline de preprocesamiento\n",
        "preprocessor = ColumnTransformer(\n",
        "    transformers=[\n",
        "        ('num', StandardScaler(), [ 'Mileage']),  # Estandarizar variables numéricas\n",
        "        ('cat', OneHotEncoder(handle_unknown='ignore'), ['Year','State', 'Model','Make'])  # Dumificación\n",
        "    ])\n",
        "\n",
        "# Definir los modelos con hiperparámetros optimizados\n",
        "models = {\n",
        "    'Linear Regression': LinearRegression(),\n",
        "    'Random Forest': RandomForestRegressor(\n",
        "        n_estimators=50,       # Reducir el número de árboles\n",
        "        max_depth=10,          # Limitar la profundidad de los árboles\n",
        "        n_jobs=-1,             # Usar todos los núcleos disponibles\n",
        "        random_state=42        # Asegurar reproducibilidad\n",
        "    )\n",
        "}\n",
        "\n",
        "# Configurar K-Fold Cross-Validation\n",
        "kf = KFold(n_splits=10, shuffle=True, random_state=42)\n",
        "\n",
        "# Almacenar el mejor modelo y su rendimiento\n",
        "best_model = None\n",
        "best_mse = float('inf')\n",
        "best_name = \"\"\n",
        "\n",
        "# Evaluar cada modelo\n",
        "for name, model in models.items():\n",
        "    pipeline = Pipeline(steps=[\n",
        "        ('preprocessor', preprocessor),  # Tu preprocesador definido previamente\n",
        "        ('model', model)\n",
        "    ])\n",
        "    \n",
        "    # Usar procesamiento en paralelo durante la validación cruzada\n",
        "    scores = cross_val_score(\n",
        "        pipeline, \n",
        "        X, \n",
        "        y, \n",
        "        cv=kf, \n",
        "        scoring='neg_mean_squared_error', \n",
        "        n_jobs=-1  # Paralelizar la validación cruzada\n",
        "    )\n",
        "    \n",
        "    mse = -scores.mean()\n",
        "    std = scores.std()\n",
        "    print(f\"{name} MSE: {mse:.4f} (+/- {std:.4f})\")\n",
        "\n",
        "    if mse < best_mse:\n",
        "        best_mse = mse\n",
        "        best_model = pipeline\n",
        "        best_name = name\n",
        "\n",
        "print(f\"El mejor modelo es: {best_name} con MSE: {best_mse:.4f}\")\n",
        "\n",
        "# Entrenar el mejor modelo\n",
        "best_model.fit(X, y)\n",
        "\n",
        "# Definir la ruta donde se guardará el modelo\n",
        "model_path = 'model_deployment/best_model.pkl'\n",
        "model_dir = os.path.dirname(model_path)\n",
        "\n",
        "# Verificar si la ruta del directorio existe, si no, crearla\n",
        "if not os.path.exists(model_dir):\n",
        "    os.makedirs(model_dir)\n",
        "\n",
        "# Guardar el modelo\n",
        "joblib.dump(best_model, model_path, compress=3)\n",
        "print(f\"Modelo {best_name} guardado exitosamente como '{model_path}'\")\n"
      ]
    },
    {
      "cell_type": "markdown",
      "metadata": {},
      "source": [
        "# Definir archivo para hacer despliegue y cargue del modelo por medio de una función  "
      ]
    },
    {
      "cell_type": "code",
      "execution_count": 7,
      "metadata": {},
      "outputs": [
        {
          "name": "stdout",
          "output_type": "stream",
          "text": [
            "Archivo Model_Dev.py creado exitosamente en model_deployment\n"
          ]
        }
      ],
      "source": [
        "\n",
        "# Definir el código que quieres escribir en el archivo .py\n",
        "codigo = \"\"\"\n",
        "import pandas as pd\n",
        "import joblib\n",
        "import sys\n",
        "import os\n",
        "\n",
        "def predict_price(mileage, year, state, model, make):\n",
        "    # Cargar el modelo entrenado\n",
        "    model = joblib.load(os.path.dirname(__file__) + '/best_model.pkl') \n",
        "\n",
        "    if model is None:\n",
        "        raise ValueError(\"El modelo no se ha cargado correctamente.\")\n",
        "    \n",
        "    # Crear un DataFrame con los datos de entrada\n",
        "    input_data = pd.DataFrame([{\n",
        "        'Mileage': mileage,\n",
        "        'Year': year,\n",
        "        'State': state,\n",
        "        'Model': model,\n",
        "        'Make': make\n",
        "    }])\n",
        "  \n",
        "    # Realizar la prediccin\n",
        "    predicted_price = model.predict(input_data)\n",
        "    \n",
        "    predicted_price_std = 1000  # Esto debe ser reemplazado por el c�lculo real de la desviaci�n est�ndar\n",
        "\n",
        "    return predicted_price[0], predicted_price_std\n",
        "\n",
        "\n",
        "if __name__ == \"__main__\":\n",
        "    \n",
        "    if len(sys.argv) < 6:\n",
        "        print('Por favor ingresar todos los parametros : Mileage, Year, State, Model, Make')\n",
        "        \n",
        "    else:\n",
        "        mileage = float(sys.argv[1])\n",
        "        year = int(sys.argv[2])\n",
        "        state = sys.argv[3]\n",
        "        model = sys.argv[4]\n",
        "        make = sys.argv[5]\n",
        "        \n",
        "        try:\n",
        "            price, std_dev = predict_price(mileage, year, state, model, make)\n",
        "        except Exception as e:\n",
        "            print(f\"Error al predecir: {str(e)}\")\n",
        "            raise\n",
        "        \n",
        "        print(f\"Precio predecido: ${price:.2f}\")\n",
        "        print(f\"Desviacion Standar aprox: ${std_dev:.2f}\")\n",
        "\"\"\"\n",
        "# Definir la ruta donde se guardará el archivo .py\n",
        "folder_path = 'model_deployment'\n",
        "file_name = 'Model_Dev.py'\n",
        "file_path = os.path.join(folder_path, file_name)\n",
        "\n",
        "# Verificar si el directorio existe, si no, crearlo\n",
        "if not os.path.exists(folder_path):\n",
        "    os.makedirs(folder_path)\n",
        "\n",
        "# Escribir el código en el archivo .py\n",
        "with open(file_path, 'w', encoding='utf-8') as file:\n",
        "    file.write(codigo)\n",
        "\n",
        "print(f\"Archivo {file_name} creado exitosamente en {folder_path}\")"
      ]
    },
    {
      "cell_type": "markdown",
      "metadata": {},
      "source": [
        "# Cargue del modelo e invocación de la función "
      ]
    },
    {
      "cell_type": "code",
      "execution_count": 8,
      "metadata": {},
      "outputs": [],
      "source": [
        "from model_deployment.Model_Dev import predict_price"
      ]
    },
    {
      "cell_type": "markdown",
      "metadata": {},
      "source": [
        "# Probar predicción batch "
      ]
    },
    {
      "cell_type": "code",
      "execution_count": 9,
      "metadata": {},
      "outputs": [
        {
          "data": {
            "text/plain": [
              "(14078.154990170478, 1000)"
            ]
          },
          "execution_count": 9,
          "metadata": {},
          "output_type": "execute_result"
        }
      ],
      "source": [
        "predict_price(10,2015,'MD','MuranoAWD','Nissan')"
      ]
    },
    {
      "cell_type": "markdown",
      "metadata": {},
      "source": [
        "# Instlación de flask"
      ]
    },
    {
      "cell_type": "code",
      "execution_count": 19,
      "metadata": {},
      "outputs": [
        {
          "name": "stdout",
          "output_type": "stream",
          "text": [
            "Defaulting to user installation because normal site-packages is not writeable\n",
            "Collecting flask-restx\n",
            "  Downloading flask_restx-1.3.0-py2.py3-none-any.whl.metadata (9.3 kB)\n",
            "Collecting aniso8601>=0.82 (from flask-restx)\n",
            "  Downloading aniso8601-9.0.1-py2.py3-none-any.whl.metadata (23 kB)\n",
            "Requirement already satisfied: jsonschema in c:\\users\\raule\\appdata\\local\\packages\\pythonsoftwarefoundation.python.3.12_qbz5n2kfra8p0\\localcache\\local-packages\\python312\\site-packages (from flask-restx) (4.22.0)\n",
            "Requirement already satisfied: Flask!=2.0.0,>=0.8 in c:\\users\\raule\\appdata\\local\\packages\\pythonsoftwarefoundation.python.3.12_qbz5n2kfra8p0\\localcache\\local-packages\\python312\\site-packages (from flask-restx) (3.0.3)\n",
            "Requirement already satisfied: werkzeug!=2.0.0 in c:\\users\\raule\\appdata\\local\\packages\\pythonsoftwarefoundation.python.3.12_qbz5n2kfra8p0\\localcache\\local-packages\\python312\\site-packages (from flask-restx) (3.0.2)\n",
            "Requirement already satisfied: pytz in c:\\users\\raule\\appdata\\local\\packages\\pythonsoftwarefoundation.python.3.12_qbz5n2kfra8p0\\localcache\\local-packages\\python312\\site-packages (from flask-restx) (2024.1)\n",
            "Collecting importlib-resources (from flask-restx)\n",
            "  Downloading importlib_resources-6.4.4-py3-none-any.whl.metadata (4.0 kB)\n",
            "Requirement already satisfied: Jinja2>=3.1.2 in c:\\users\\raule\\appdata\\local\\packages\\pythonsoftwarefoundation.python.3.12_qbz5n2kfra8p0\\localcache\\local-packages\\python312\\site-packages (from Flask!=2.0.0,>=0.8->flask-restx) (3.1.3)\n",
            "Requirement already satisfied: itsdangerous>=2.1.2 in c:\\users\\raule\\appdata\\local\\packages\\pythonsoftwarefoundation.python.3.12_qbz5n2kfra8p0\\localcache\\local-packages\\python312\\site-packages (from Flask!=2.0.0,>=0.8->flask-restx) (2.2.0)\n",
            "Requirement already satisfied: click>=8.1.3 in c:\\users\\raule\\appdata\\local\\packages\\pythonsoftwarefoundation.python.3.12_qbz5n2kfra8p0\\localcache\\local-packages\\python312\\site-packages (from Flask!=2.0.0,>=0.8->flask-restx) (8.1.7)\n",
            "Requirement already satisfied: blinker>=1.6.2 in c:\\users\\raule\\appdata\\local\\packages\\pythonsoftwarefoundation.python.3.12_qbz5n2kfra8p0\\localcache\\local-packages\\python312\\site-packages (from Flask!=2.0.0,>=0.8->flask-restx) (1.8.1)\n",
            "Requirement already satisfied: MarkupSafe>=2.1.1 in c:\\users\\raule\\appdata\\local\\packages\\pythonsoftwarefoundation.python.3.12_qbz5n2kfra8p0\\localcache\\local-packages\\python312\\site-packages (from werkzeug!=2.0.0->flask-restx) (2.1.5)\n",
            "Requirement already satisfied: attrs>=22.2.0 in c:\\users\\raule\\appdata\\local\\packages\\pythonsoftwarefoundation.python.3.12_qbz5n2kfra8p0\\localcache\\local-packages\\python312\\site-packages (from jsonschema->flask-restx) (23.2.0)\n",
            "Requirement already satisfied: jsonschema-specifications>=2023.03.6 in c:\\users\\raule\\appdata\\local\\packages\\pythonsoftwarefoundation.python.3.12_qbz5n2kfra8p0\\localcache\\local-packages\\python312\\site-packages (from jsonschema->flask-restx) (2023.12.1)\n",
            "Requirement already satisfied: referencing>=0.28.4 in c:\\users\\raule\\appdata\\local\\packages\\pythonsoftwarefoundation.python.3.12_qbz5n2kfra8p0\\localcache\\local-packages\\python312\\site-packages (from jsonschema->flask-restx) (0.35.0)\n",
            "Requirement already satisfied: rpds-py>=0.7.1 in c:\\users\\raule\\appdata\\local\\packages\\pythonsoftwarefoundation.python.3.12_qbz5n2kfra8p0\\localcache\\local-packages\\python312\\site-packages (from jsonschema->flask-restx) (0.18.0)\n",
            "Requirement already satisfied: colorama in c:\\users\\raule\\appdata\\local\\packages\\pythonsoftwarefoundation.python.3.12_qbz5n2kfra8p0\\localcache\\local-packages\\python312\\site-packages (from click>=8.1.3->Flask!=2.0.0,>=0.8->flask-restx) (0.4.6)\n",
            "Downloading flask_restx-1.3.0-py2.py3-none-any.whl (2.8 MB)\n",
            "   ---------------------------------------- 0.0/2.8 MB ? eta -:--:--\n",
            "   ---------------------------------------- 2.8/2.8 MB 32.1 MB/s eta 0:00:00\n",
            "Downloading aniso8601-9.0.1-py2.py3-none-any.whl (52 kB)\n",
            "Downloading importlib_resources-6.4.4-py3-none-any.whl (35 kB)\n",
            "Installing collected packages: aniso8601, importlib-resources, flask-restx\n",
            "Successfully installed aniso8601-9.0.1 flask-restx-1.3.0 importlib-resources-6.4.4\n",
            "Note: you may need to restart the kernel to use updated packages.\n"
          ]
        }
      ],
      "source": [
        "%pip install flask-restx"
      ]
    },
    {
      "cell_type": "markdown",
      "metadata": {},
      "source": [
        "# Creación de Api con metodo GET"
      ]
    },
    {
      "cell_type": "code",
      "execution_count": 10,
      "metadata": {},
      "outputs": [],
      "source": [
        "app_get = Flask(__name__)\n",
        "api = Api(\n",
        "    app_get,\n",
        "    version='1.0',\n",
        "    title='Predecir el Precio de Coches API - GET',\n",
        "    description='API para predecir el precio de coches')\n",
        "\n",
        "ns = api.namespace('predict', description='Precio regresión')\n",
        "\n",
        "# Definir los argumentos esperados\n",
        "parser = api.parser()\n",
        "\n",
        "parser.add_argument(\n",
        "    'Mileage',\n",
        "    type=float,\n",
        "    required=True,\n",
        "    help='Millas del auto',\n",
        "    location='args')\n",
        "\n",
        "parser.add_argument(\n",
        "    'Year',\n",
        "    type=int,\n",
        "    required=True,\n",
        "    help='Año del auto',\n",
        "    location='args')\n",
        "\n",
        "parser.add_argument(\n",
        "    'State',\n",
        "    type=str,\n",
        "    required=True,\n",
        "    help='Estado donde esta registrado el auto',\n",
        "    location='args')\n",
        "\n",
        "parser.add_argument(\n",
        "    'Model',\n",
        "    type=str,\n",
        "    required=True,\n",
        "    help='Modelo del auto',\n",
        "    location='args')\n",
        "\n",
        "parser.add_argument(\n",
        "    'Make',\n",
        "    type=str,\n",
        "    required=True,\n",
        "    help='Marca del auto',\n",
        "    location='args')\n",
        "\n",
        "resource_fields = api.model('Resource', {\n",
        "    'predicted_price': fields.Float,\n",
        "    'predicted_price_std': fields.Float,\n",
        "})"
      ]
    },
    {
      "cell_type": "markdown",
      "metadata": {},
      "source": [
        "# Creación Api metodo POST"
      ]
    },
    {
      "cell_type": "code",
      "execution_count": 11,
      "metadata": {},
      "outputs": [],
      "source": [
        "app_post = Flask(__name__)\n",
        "api = Api(\n",
        "    app_post,\n",
        "    version='1.0',\n",
        "    title='Predecir el Precio de Coches API - POST',\n",
        "    description='API para predecir el precio de coches')\n",
        "\n",
        "ns_post = api.namespace('predict', description='Precio regresión')\n",
        "\n",
        "# Definir el modelo del cuerpo de la solicitud\n",
        "input_model = api.model('InputModel', {\n",
        "    'Mileage': fields.Float(required=True, description='Millas del auto'),\n",
        "    'Year': fields.Integer(required=True, description='Año del auto'),\n",
        "    'State': fields.String(required=True, description='Estado donde esta registrado el auto'),\n",
        "    'Model': fields.String(required=True, description='Modelo del auto'),\n",
        "    'Make': fields.String(required=True, description='Marca del auto')\n",
        "})\n",
        "\n",
        "resource_fields = api.model('Resource', {\n",
        "    'predicted_price': fields.Float,\n",
        "    'predicted_price_std': fields.Float,\n",
        "})"
      ]
    },
    {
      "cell_type": "code",
      "execution_count": 10,
      "metadata": {},
      "outputs": [],
      "source": [
        "from model_deployment.Model_Dev import predict_price"
      ]
    },
    {
      "cell_type": "markdown",
      "metadata": {},
      "source": [
        "# Creación Clase principal GET"
      ]
    },
    {
      "cell_type": "code",
      "execution_count": 13,
      "metadata": {},
      "outputs": [],
      "source": [
        "@ns.route('/')\n",
        "class PredictPrice(Resource):\n",
        "    @api.expect(parser)\n",
        "    @api.marshal_with(resource_fields)\n",
        "    def get(self):\n",
        "        # Obtener los parámetros de la URL\n",
        "        args = parser.parse_args()\n",
        "        mileage = args['Mileage']\n",
        "        year = args['Year']\n",
        "        state = args['State']\n",
        "        model_name = args['Model']\n",
        "        make = args['Make']\n",
        "\n",
        "        print(mileage, year, state, model_name, make)\n",
        "        # Realizar la predicción\n",
        "        predicted_price,predicted_price_std = predict_price(mileage=mileage, year=year, state=state, model=model_name, make=make)\n",
        "\n",
        "        return {\n",
        "            \"predicted_price\": predicted_price,\n",
        "            'predicted_price_std': predicted_price_std\n",
        "        },200"
      ]
    },
    {
      "cell_type": "markdown",
      "metadata": {},
      "source": [
        "# Creación Clase principal POST"
      ]
    },
    {
      "cell_type": "code",
      "execution_count": 14,
      "metadata": {},
      "outputs": [],
      "source": [
        "@ns_post.route('/')\n",
        "class PredictPrice(Resource):\n",
        "    @api.expect(input_model)\n",
        "    @api.marshal_with(resource_fields)\n",
        "    def post(self):\n",
        "        # Obtener los datos del cuerpo de la solicitud\n",
        "        data = request.json\n",
        "        \n",
        "        # Verificar que todos los campos necesarios estén presentes\n",
        "        if not all(key in data for key in ('Mileage', 'Year', 'State', 'Model', 'Make')):\n",
        "            return {\"message\": \"Missing fields in request body\"}, 400\n",
        "\n",
        "        # Extraer los valores\n",
        "        mileage = data['Mileage']\n",
        "        year = data['Year']\n",
        "        state = data['State']\n",
        "        model_name = data['Model']\n",
        "        make = data['Make']\n",
        "     \n",
        "        # Realizar la predicción\n",
        "        predicted_price,predicted_price_std = predict_price(mileage=mileage, year=year, state=state, model=model_name, make=make)\n",
        "\n",
        "        return {\n",
        "            'predicted_price': predicted_price,\n",
        "            'predicted_price_std': predicted_price_std\n",
        "        },200"
      ]
    },
    {
      "cell_type": "markdown",
      "metadata": {},
      "source": [
        "# Ejecutar Api con metodo POST"
      ]
    },
    {
      "cell_type": "code",
      "execution_count": 15,
      "metadata": {},
      "outputs": [
        {
          "name": "stdout",
          "output_type": "stream",
          "text": [
            " * Serving Flask app '__main__'\n",
            " * Debug mode: on\n"
          ]
        },
        {
          "name": "stderr",
          "output_type": "stream",
          "text": [
            "WARNING: This is a development server. Do not use it in a production deployment. Use a production WSGI server instead.\n",
            " * Running on all addresses (0.0.0.0)\n",
            " * Running on http://127.0.0.1:5000\n",
            " * Running on http://192.168.1.25:5000\n",
            "Press CTRL+C to quit\n",
            "127.0.0.1 - - [28/Aug/2024 20:10:14] \"GET / HTTP/1.1\" 200 -\n",
            "127.0.0.1 - - [28/Aug/2024 20:10:15] \"GET /swaggerui/swagger-ui.css HTTP/1.1\" 304 -\n",
            "127.0.0.1 - - [28/Aug/2024 20:10:15] \"GET /swaggerui/swagger-ui-standalone-preset.js HTTP/1.1\" 304 -\n",
            "127.0.0.1 - - [28/Aug/2024 20:10:15] \"GET /swaggerui/droid-sans.css HTTP/1.1\" 304 -\n",
            "127.0.0.1 - - [28/Aug/2024 20:10:15] \"GET /swaggerui/swagger-ui-bundle.js HTTP/1.1\" 304 -\n",
            "127.0.0.1 - - [28/Aug/2024 20:10:15] \"GET /swagger.json HTTP/1.1\" 200 -\n",
            "127.0.0.1 - - [28/Aug/2024 20:11:56] \"POST /predict/ HTTP/1.1\" 200 -\n",
            "127.0.0.1 - - [28/Aug/2024 20:12:29] \"POST /predict/ HTTP/1.1\" 200 -\n",
            "127.0.0.1 - - [28/Aug/2024 20:13:04] \"GET / HTTP/1.1\" 200 -\n",
            "127.0.0.1 - - [28/Aug/2024 20:13:04] \"GET /swaggerui/droid-sans.css HTTP/1.1\" 304 -\n",
            "127.0.0.1 - - [28/Aug/2024 20:13:04] \"GET /swaggerui/swagger-ui-bundle.js HTTP/1.1\" 304 -\n",
            "127.0.0.1 - - [28/Aug/2024 20:13:04] \"GET /swaggerui/swagger-ui.css HTTP/1.1\" 304 -\n",
            "127.0.0.1 - - [28/Aug/2024 20:13:04] \"GET /swaggerui/swagger-ui-standalone-preset.js HTTP/1.1\" 304 -\n",
            "127.0.0.1 - - [28/Aug/2024 20:13:04] \"GET /swagger.json HTTP/1.1\" 200 -\n"
          ]
        }
      ],
      "source": [
        "app_post.run(debug=True, use_reloader=False, host='0.0.0.0', port=5000)"
      ]
    },
    {
      "cell_type": "markdown",
      "metadata": {},
      "source": [
        "# Datos en formato Json para validar metodo post\n",
        "\n",
        "{\n",
        "        \"Mileage\": 10.370674719272289,\n",
        "        \"Year\": 2014,\n",
        "        \"State\": \"MD\",\n",
        "        \"Model\": \"Nissan\",\n",
        "        \"Make\": \"MuranoAWD\"\n",
        "}"
      ]
    },
    {
      "cell_type": "markdown",
      "metadata": {},
      "source": [
        "# Ejecutar Api con metodo GET"
      ]
    },
    {
      "cell_type": "code",
      "execution_count": 17,
      "metadata": {},
      "outputs": [
        {
          "name": "stdout",
          "output_type": "stream",
          "text": [
            " * Serving Flask app '__main__'\n",
            " * Debug mode: on\n"
          ]
        },
        {
          "name": "stderr",
          "output_type": "stream",
          "text": [
            "WARNING: This is a development server. Do not use it in a production deployment. Use a production WSGI server instead.\n",
            " * Running on all addresses (0.0.0.0)\n",
            " * Running on http://127.0.0.1:5000\n",
            " * Running on http://192.168.1.25:5000\n",
            "Press CTRL+C to quit\n"
          ]
        }
      ],
      "source": [
        "app_get.run(debug=True, use_reloader=False, host='0.0.0.0', port=5000)"
      ]
    },
    {
      "cell_type": "markdown",
      "metadata": {
        "id": "Ftau7hH-eK4N"
      },
      "source": [
        "# Exercise P0.2 (50%)\n",
        "\n",
        "Create an API of the model.\n",
        "\n",
        "Solución :\n",
        "![API Ejecución](https://github.com/eduartev93/Topicos_Avanzados_Analitica_LESDR/blob/7e983c85a093130f6142a5e42ff2432ddb3ff5c0/Imagenes/API_EJECUCION.png?raw=true)\n",
        "\n",
        "![API Método GET](https://github.com/eduartev93/Topicos_Avanzados_Analitica_LESDR/blob/7e983c85a093130f6142a5e42ff2432ddb3ff5c0/Imagenes/API_METODO_GET.png?raw=true)\n",
        "\n",
        "![API Método POST](https://github.com/eduartev93/Topicos_Avanzados_Analitica_LESDR/blob/7e983c85a093130f6142a5e42ff2432ddb3ff5c0/Imagenes/API_METODO_POST.png?raw=true)\n",
        "\n",
        "#### Evaluation:\n",
        "- 40% - API hosted on a cloud service\n",
        "- 10% - Show screenshots of the model doing the predictions on the local machine\n"
      ]
    },
    {
      "cell_type": "markdown",
      "metadata": {},
      "source": [
        "# publicación Api Heroku\n",
        "\n",
        "Generacíon de archivo de requerimientos"
      ]
    },
    {
      "cell_type": "code",
      "execution_count": 2,
      "metadata": {
        "id": "AWooSefzf3U6"
      },
      "outputs": [
        {
          "name": "stdout",
          "output_type": "stream",
          "text": [
            "Note: you may need to restart the kernel to use updated packages.\n"
          ]
        }
      ],
      "source": [
        "%pip freeze > requirements.txt"
      ]
    },
    {
      "cell_type": "code",
      "execution_count": 11,
      "metadata": {},
      "outputs": [
        {
          "name": "stdout",
          "output_type": "stream",
          "text": [
            "Archivo app.py creado exitosamente en model_deployment\n"
          ]
        }
      ],
      "source": [
        "# Definir el código que quieres escribir en el archivo .py\n",
        "codigo = \"\"\"\n",
        "from flask import Flask\n",
        "from flask_restx import Api, Resource, fields\n",
        "from model_dev import predict_price  # Importar la función predict_price desde model_dev\n",
        "\n",
        "app = Flask(__name__)\n",
        "api = Api(\n",
        "    app,\n",
        "    version='1.0',\n",
        "    title='Predecir el Precio de Coches API - GET',\n",
        "    description='API para predecir el precio de coches'\n",
        ")\n",
        "\n",
        "ns = api.namespace('predict', description='Precio regresión')\n",
        "\n",
        "# Definir los argumentos esperados\n",
        "parser = api.parser()\n",
        "\n",
        "parser.add_argument(\n",
        "    'Mileage',\n",
        "    type=float,\n",
        "    required=True,\n",
        "    help='Millas del auto',\n",
        "    location='args')\n",
        "\n",
        "parser.add_argument(\n",
        "    'Year',\n",
        "    type=int,\n",
        "    required=True,\n",
        "    help='Año del auto',\n",
        "    location='args')\n",
        "\n",
        "parser.add_argument(\n",
        "    'State',\n",
        "    type=str,\n",
        "    required=True,\n",
        "    help='Estado donde está registrado el auto',\n",
        "    location='args')\n",
        "\n",
        "parser.add_argument(\n",
        "    'Model',\n",
        "    type=str,\n",
        "    required=True,\n",
        "    help='Modelo del auto',\n",
        "    location='args')\n",
        "\n",
        "parser.add_argument(\n",
        "    'Make',\n",
        "    type=str,\n",
        "    required=True,\n",
        "    help='Marca del auto',\n",
        "    location='args')\n",
        "\n",
        "resource_fields = api.model('Resource', {\n",
        "    'predicted_price': fields.Float,\n",
        "    'predicted_price_std': fields.Float,\n",
        "})\n",
        "\n",
        "@ns.route('/')\n",
        "class PredictPrice(Resource):\n",
        "    @api.expect(parser)\n",
        "    @api.marshal_with(resource_fields)\n",
        "    def get(self):\n",
        "        # Obtener los parámetros de la URL\n",
        "        args = parser.parse_args()\n",
        "        mileage = args['Mileage']\n",
        "        year = args['Year']\n",
        "        state = args['State']\n",
        "        model_name = args['Model']\n",
        "        make = args['Make']\n",
        "\n",
        "        # Realizar la predicción\n",
        "        predicted_price, predicted_price_std = predict_price(\n",
        "            mileage=mileage, \n",
        "            year=year, \n",
        "            state=state, \n",
        "            model=model_name,  # Usar model_name en lugar de model\n",
        "            make=make\n",
        "        )\n",
        "\n",
        "        return {\n",
        "            \"predicted_price\": predicted_price,\n",
        "            'predicted_price_std': predicted_price_std\n",
        "        }, 200\n",
        "\n",
        "if __name__ == '__main__':\n",
        "    app.run(debug=True)\n",
        "\"\"\"\n",
        "# Definir la ruta donde se guardará el archivo .py\n",
        "folder_path = 'model_deployment'\n",
        "file_name = 'app.py'\n",
        "file_path = os.path.join(folder_path, file_name)\n",
        "\n",
        "# Verificar si el directorio existe, si no, crearlo\n",
        "if not os.path.exists(folder_path):\n",
        "    os.makedirs(folder_path)\n",
        "\n",
        "# Escribir el código en el archivo .py\n",
        "with open(file_path, 'w', encoding='utf-8') as file:\n",
        "    file.write(codigo)\n",
        "\n",
        "print(f\"Archivo {file_name} creado exitosamente en {folder_path}\")"
      ]
    },
    {
      "cell_type": "code",
      "execution_count": null,
      "metadata": {},
      "outputs": [],
      "source": []
    }
  ],
  "metadata": {
    "colab": {
      "include_colab_link": true,
      "provenance": []
    },
    "kernelspec": {
      "display_name": "Python 3",
      "language": "python",
      "name": "python3"
    },
    "language_info": {
      "codemirror_mode": {
        "name": "ipython",
        "version": 3
      },
      "file_extension": ".py",
      "mimetype": "text/x-python",
      "name": "python",
      "nbconvert_exporter": "python",
      "pygments_lexer": "ipython3",
      "version": "3.12.5"
    }
  },
  "nbformat": 4,
  "nbformat_minor": 0
}
