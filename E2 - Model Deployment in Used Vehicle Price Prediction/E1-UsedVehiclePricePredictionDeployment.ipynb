{
  "cells": [
    {
      "cell_type": "markdown",
      "metadata": {
        "colab_type": "text",
        "id": "view-in-github"
      },
      "source": [
        "<a href=\"https://colab.research.google.com/github/sergiomora03/AdvancedTopicsAnalytics/blob/main/exercises/E1-UsedVehiclePricePredictionDeployment.ipynb\" target=\"_parent\"><img src=\"https://colab.research.google.com/assets/colab-badge.svg\" alt=\"Open In Colab\"/></a>"
      ]
    },
    {
      "cell_type": "markdown",
      "metadata": {
        "id": "sxFxQIOfeK4F"
      },
      "source": [
        "\n",
        "# E1 - Model Deployment in Used Vehicle Price Prediction"
      ]
    },
    {
      "cell_type": "markdown",
      "metadata": {
        "id": "sJ9F7SjKeK4G"
      },
      "source": [
        "## Introduction\n",
        "\n",
        "- 1.2 Million listings scraped from TrueCar.com - Price, Mileage, Make, Model dataset from Kaggle: [data](https://www.kaggle.com/jpayne/852k-used-car-listings)\n",
        "- Each observation represents the price of an used car"
      ]
    },
    {
      "cell_type": "code",
      "execution_count": 1,
      "metadata": {
        "id": "xbFTQNlbeK4H"
      },
      "outputs": [],
      "source": [
        "%matplotlib inline\n",
        "import pandas as pd"
      ]
    },
    {
      "cell_type": "code",
      "execution_count": 2,
      "metadata": {
        "id": "G8n9pb2JeK4I"
      },
      "outputs": [],
      "source": [
        "data = pd.read_csv('https://github.com/sergiomora03/AdvancedTopicsAnalytics/raw/main/datasets/dataTrain_carListings.zip')"
      ]
    },
    {
      "cell_type": "code",
      "execution_count": 3,
      "metadata": {
        "colab": {
          "base_uri": "https://localhost:8080/",
          "height": 204
        },
        "id": "7DKvXgDmeK4J",
        "outputId": "3621f360-87c9-450d-d11f-72f098cf9f72"
      },
      "outputs": [
        {
          "data": {
            "text/html": [
              "<div>\n",
              "<style scoped>\n",
              "    .dataframe tbody tr th:only-of-type {\n",
              "        vertical-align: middle;\n",
              "    }\n",
              "\n",
              "    .dataframe tbody tr th {\n",
              "        vertical-align: top;\n",
              "    }\n",
              "\n",
              "    .dataframe thead th {\n",
              "        text-align: right;\n",
              "    }\n",
              "</style>\n",
              "<table border=\"1\" class=\"dataframe\">\n",
              "  <thead>\n",
              "    <tr style=\"text-align: right;\">\n",
              "      <th></th>\n",
              "      <th>Price</th>\n",
              "      <th>Year</th>\n",
              "      <th>Mileage</th>\n",
              "      <th>State</th>\n",
              "      <th>Make</th>\n",
              "      <th>Model</th>\n",
              "    </tr>\n",
              "  </thead>\n",
              "  <tbody>\n",
              "    <tr>\n",
              "      <th>0</th>\n",
              "      <td>21490</td>\n",
              "      <td>2014</td>\n",
              "      <td>31909</td>\n",
              "      <td>MD</td>\n",
              "      <td>Nissan</td>\n",
              "      <td>MuranoAWD</td>\n",
              "    </tr>\n",
              "    <tr>\n",
              "      <th>1</th>\n",
              "      <td>21250</td>\n",
              "      <td>2016</td>\n",
              "      <td>25741</td>\n",
              "      <td>KY</td>\n",
              "      <td>Chevrolet</td>\n",
              "      <td>CamaroCoupe</td>\n",
              "    </tr>\n",
              "    <tr>\n",
              "      <th>2</th>\n",
              "      <td>20925</td>\n",
              "      <td>2016</td>\n",
              "      <td>24633</td>\n",
              "      <td>SC</td>\n",
              "      <td>Hyundai</td>\n",
              "      <td>Santa</td>\n",
              "    </tr>\n",
              "    <tr>\n",
              "      <th>3</th>\n",
              "      <td>14500</td>\n",
              "      <td>2012</td>\n",
              "      <td>84026</td>\n",
              "      <td>OK</td>\n",
              "      <td>Jeep</td>\n",
              "      <td>Grand</td>\n",
              "    </tr>\n",
              "    <tr>\n",
              "      <th>4</th>\n",
              "      <td>32488</td>\n",
              "      <td>2013</td>\n",
              "      <td>22816</td>\n",
              "      <td>TN</td>\n",
              "      <td>Jeep</td>\n",
              "      <td>Wrangler</td>\n",
              "    </tr>\n",
              "  </tbody>\n",
              "</table>\n",
              "</div>"
            ],
            "text/plain": [
              "   Price  Year  Mileage State       Make        Model\n",
              "0  21490  2014    31909    MD     Nissan    MuranoAWD\n",
              "1  21250  2016    25741    KY  Chevrolet  CamaroCoupe\n",
              "2  20925  2016    24633    SC    Hyundai        Santa\n",
              "3  14500  2012    84026    OK       Jeep        Grand\n",
              "4  32488  2013    22816    TN       Jeep     Wrangler"
            ]
          },
          "execution_count": 3,
          "metadata": {},
          "output_type": "execute_result"
        }
      ],
      "source": [
        "data.head()"
      ]
    },
    {
      "cell_type": "code",
      "execution_count": 4,
      "metadata": {
        "colab": {
          "base_uri": "https://localhost:8080/"
        },
        "id": "_aoPSO3KeK4J",
        "outputId": "fb63258d-0ea3-4c43-9e0b-e0846808df29"
      },
      "outputs": [
        {
          "data": {
            "text/plain": [
              "(500000, 6)"
            ]
          },
          "execution_count": 4,
          "metadata": {},
          "output_type": "execute_result"
        }
      ],
      "source": [
        "data.shape"
      ]
    },
    {
      "cell_type": "code",
      "execution_count": 5,
      "metadata": {
        "colab": {
          "base_uri": "https://localhost:8080/"
        },
        "id": "5DZ-QvJLeK4L",
        "outputId": "64940a18-c12e-43bf-f576-dcee13994da9"
      },
      "outputs": [
        {
          "data": {
            "text/plain": [
              "Index(['Price', 'Year', 'Mileage', 'State', 'Make', 'Model'], dtype='object')"
            ]
          },
          "execution_count": 5,
          "metadata": {},
          "output_type": "execute_result"
        }
      ],
      "source": [
        "data.columns"
      ]
    },
    {
      "cell_type": "markdown",
      "metadata": {
        "id": "7iz8pi7CeK4M"
      },
      "source": [
        "# Exercise P0.1 (50%)\n",
        "\n",
        "Develop a machine learning model that predicts the price of the of car using as an input ['Year', 'Mileage', 'State', 'Make', 'Model']\n",
        "\n",
        "#### Evaluation:\n",
        "- 25% - Performance of the models using a manually implemented K-Fold (K=10) cross-validation\n",
        "- 25% - Notebook explaining the process for selecting the best model. You must specify how the calibration of each of the parameters is done and how these change the performance of the model. It is expected that a clear comparison will be made of all implemented models.. Present the most relevant conslusions about the whole process.\n"
      ]
    },
    {
      "cell_type": "code",
      "execution_count": null,
      "metadata": {
        "id": "tg0ku6tPeK4N"
      },
      "outputs": [],
      "source": []
    },
    {
      "cell_type": "markdown",
      "metadata": {
        "id": "Ftau7hH-eK4N"
      },
      "source": [
        "# Exercise P0.2 (50%)\n",
        "\n",
        "Create an API of the model.\n",
        "\n",
        "Example:\n",
        "![](https://github.com/sergiomora03/AdvancedTopicsAnalytics/blob/main/notebooks/img/img015.PNG?raw=true)\n",
        "\n",
        "#### Evaluation:\n",
        "- 40% - API hosted on a cloud service\n",
        "- 10% - Show screenshots of the model doing the predictions on the local machine\n"
      ]
    },
    {
      "cell_type": "code",
      "execution_count": null,
      "metadata": {
        "id": "AWooSefzf3U6"
      },
      "outputs": [],
      "source": []
    }
  ],
  "metadata": {
    "colab": {
      "include_colab_link": true,
      "provenance": []
    },
    "kernelspec": {
      "display_name": "Python 3",
      "language": "python",
      "name": "python3"
    },
    "language_info": {
      "codemirror_mode": {
        "name": "ipython",
        "version": 3
      },
      "file_extension": ".py",
      "mimetype": "text/x-python",
      "name": "python",
      "nbconvert_exporter": "python",
      "pygments_lexer": "ipython3",
      "version": "3.12.5"
    }
  },
  "nbformat": 4,
  "nbformat_minor": 0
}
